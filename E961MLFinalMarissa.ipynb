{
 "cells": [
  {
   "cell_type": "markdown",
   "metadata": {},
   "source": [
    "Package Installs"
   ]
  },
  {
   "cell_type": "code",
   "execution_count": 16,
   "metadata": {},
   "outputs": [],
   "source": [
    "# %pip install numpy\n",
    "# %pip install scipy\n",
    "# %pip install torch\n",
    "# %pip install torchvision"
   ]
  },
  {
   "cell_type": "markdown",
   "metadata": {},
   "source": [
    "Imports"
   ]
  },
  {
   "cell_type": "code",
   "execution_count": 25,
   "metadata": {},
   "outputs": [],
   "source": [
    "import torch\n",
    "from torchvision.datasets import MNIST\n",
    "import torchvision.transforms as transforms\n",
    "from torch.utils.data import random_split, DataLoader\n",
    "import torch.nn as nn\n",
    "import torch.nn.functional as F\n",
    "from torch.autograd import Variable"
   ]
  },
  {
   "cell_type": "markdown",
   "metadata": {},
   "source": [
    "Load Data"
   ]
  },
  {
   "cell_type": "code",
   "execution_count": 26,
   "metadata": {},
   "outputs": [
    {
     "name": "stdout",
     "output_type": "stream",
     "text": [
      "60000\n"
     ]
    }
   ],
   "source": [
    "dataset = MNIST(root='./data', train=True, download=True, transform=transforms.ToTensor())\n",
    "print(len(dataset))"
   ]
  },
  {
   "cell_type": "markdown",
   "metadata": {},
   "source": [
    "Data Preprocessing"
   ]
  },
  {
   "cell_type": "code",
   "execution_count": 27,
   "metadata": {},
   "outputs": [
    {
     "name": "stdout",
     "output_type": "stream",
     "text": [
      "length of Train Datasets:  51000\n",
      "length of Validation Datasets:  9000\n"
     ]
    }
   ],
   "source": [
    "BATCH_SIZE = 32\n",
    "train_data, test_data = random_split(dataset, [51000, 9000]) # like train_test_split test_size=0.15\n",
    "print(\"length of Train Datasets: \", len(train_data))\n",
    "print(\"length of Validation Datasets: \", len(test_data))\n",
    "\n",
    "train_loader = DataLoader(train_data, batch_size=BATCH_SIZE, shuffle = True)\n",
    "test_loader = DataLoader(test_data, batch_size=BATCH_SIZE, shuffle = True)\n"
   ]
  },
  {
   "cell_type": "markdown",
   "metadata": {},
   "source": [
    "Model"
   ]
  },
  {
   "cell_type": "code",
   "execution_count": 28,
   "metadata": {},
   "outputs": [
    {
     "name": "stdout",
     "output_type": "stream",
     "text": [
      "Classifier6(\n",
      "  (conv1): Conv2d(1, 32, kernel_size=(5, 5), stride=(1, 1))\n",
      "  (conv2): Conv2d(32, 32, kernel_size=(5, 5), stride=(1, 1))\n",
      "  (conv3): Conv2d(32, 64, kernel_size=(5, 5), stride=(1, 1))\n",
      "  (fc1): Linear(in_features=576, out_features=256, bias=True)\n",
      "  (fc2): Linear(in_features=256, out_features=10, bias=True)\n",
      ")\n",
      "torch.Size([32, 10])\n"
     ]
    }
   ],
   "source": [
    "class Classifier6(nn.Module):\n",
    "    def __init__(self):\n",
    "        super(Classifier6, self).__init__()\n",
    "        self.conv1 = nn.Conv2d(1, 32, kernel_size=5)\n",
    "        self.conv2 = nn.Conv2d(32, 32, kernel_size=5)\n",
    "        self.conv3 = nn.Conv2d(32, 64, kernel_size=5)\n",
    "        self.fc1 = nn.Linear(3*3*64, 256)\n",
    "        self.fc2 = nn.Linear(256, 10)\n",
    "    \n",
    "    def forward(self, x):\n",
    "        x = F.relu(self.conv1(x))\n",
    "        x = F.relu(F.max_pool2d(self.conv2(x), 2))\n",
    "        x = F.dropout(x, p=0.5, training=self.training)\n",
    "        x = F.relu(F.max_pool2d(self.conv3(x), 2))\n",
    "        x = F.dropout(x, p=0.5, training=self.training)\n",
    "        x = x.view(-1, 3*3*64)\n",
    "        x = F.relu(self.fc1(x))\n",
    "        x = F.dropout(x, training=self.training)\n",
    "        x = self.fc2(x)\n",
    "        return F.log_softmax(x, dim=1)\n",
    "\n",
    "cnn = Classifier6()\n",
    "print(cnn)\n",
    "it = iter(train_loader)\n",
    "X_batch, y_batch = next(it)\n",
    "print(cnn.forward(X_batch).shape)"
   ]
  },
  {
   "cell_type": "code",
   "execution_count": 29,
   "metadata": {},
   "outputs": [],
   "source": [
    "def fit(model, train_loader):\n",
    "    optimizer = torch.optim.Adam(model.parameters())\n",
    "    error = nn.CrossEntropyLoss()\n",
    "    EPOCHS = 5\n",
    "    model.train()\n",
    "    for epoch in range(EPOCHS):\n",
    "        correct = 0\n",
    "        for batch_idx, (X_batch, y_batch) in enumerate(train_loader):\n",
    "            var_X_batch = Variable(X_batch).float()\n",
    "            var_y_batch = Variable(y_batch)\n",
    "            optimizer.zero_grad()\n",
    "            output = model(var_X_batch)\n",
    "            loss = error(output, var_y_batch)\n",
    "            loss.backward()\n",
    "            optimizer.step()\n",
    "\n",
    "            predicted = torch.max(output.data, 1)[1]\n",
    "            correct += (predicted == var_y_batch).sum()\n",
    "            if batch_idx % 50 == 0:\n",
    "                print('Epoch : {} [{}/{} ({:.0f}%)]\\tLoss: {:.6f}\\t Accuracy:{:.3f}%'.format(\n",
    "                    epoch, batch_idx*len(X_batch), len(train_loader.dataset), 100.*batch_idx / len(train_loader), loss.data, float(correct*100) / float(BATCH_SIZE*(batch_idx+1))))"
   ]
  },
  {
   "cell_type": "code",
   "execution_count": 30,
   "metadata": {},
   "outputs": [
    {
     "name": "stdout",
     "output_type": "stream",
     "text": [
      "Epoch : 0 [0/51000 (0%)]\tLoss: 2.305645\t Accuracy:12.500%\n",
      "Epoch : 0 [1600/51000 (3%)]\tLoss: 1.300059\t Accuracy:31.250%\n",
      "Epoch : 0 [3200/51000 (6%)]\tLoss: 0.641329\t Accuracy:49.567%\n",
      "Epoch : 0 [4800/51000 (9%)]\tLoss: 0.658870\t Accuracy:60.472%\n",
      "Epoch : 0 [6400/51000 (13%)]\tLoss: 0.238666\t Accuracy:67.118%\n",
      "Epoch : 0 [8000/51000 (16%)]\tLoss: 0.404615\t Accuracy:71.365%\n",
      "Epoch : 0 [9600/51000 (19%)]\tLoss: 0.412038\t Accuracy:74.419%\n",
      "Epoch : 0 [11200/51000 (22%)]\tLoss: 0.608115\t Accuracy:76.852%\n",
      "Epoch : 0 [12800/51000 (25%)]\tLoss: 0.156645\t Accuracy:78.780%\n",
      "Epoch : 0 [14400/51000 (28%)]\tLoss: 0.056200\t Accuracy:80.363%\n",
      "Epoch : 0 [16000/51000 (31%)]\tLoss: 0.345394\t Accuracy:81.400%\n",
      "Epoch : 0 [17600/51000 (35%)]\tLoss: 0.138861\t Accuracy:82.469%\n",
      "Epoch : 0 [19200/51000 (38%)]\tLoss: 0.232467\t Accuracy:83.481%\n",
      "Epoch : 0 [20800/51000 (41%)]\tLoss: 0.171870\t Accuracy:84.317%\n",
      "Epoch : 0 [22400/51000 (44%)]\tLoss: 0.230365\t Accuracy:84.963%\n",
      "Epoch : 0 [24000/51000 (47%)]\tLoss: 0.160633\t Accuracy:85.573%\n",
      "Epoch : 0 [25600/51000 (50%)]\tLoss: 0.115293\t Accuracy:86.068%\n",
      "Epoch : 0 [27200/51000 (53%)]\tLoss: 0.124222\t Accuracy:86.549%\n",
      "Epoch : 0 [28800/51000 (56%)]\tLoss: 0.163410\t Accuracy:87.039%\n",
      "Epoch : 0 [30400/51000 (60%)]\tLoss: 0.220967\t Accuracy:87.467%\n",
      "Epoch : 0 [32000/51000 (63%)]\tLoss: 0.148011\t Accuracy:87.903%\n",
      "Epoch : 0 [33600/51000 (66%)]\tLoss: 0.060860\t Accuracy:88.273%\n",
      "Epoch : 0 [35200/51000 (69%)]\tLoss: 0.114537\t Accuracy:88.604%\n",
      "Epoch : 0 [36800/51000 (72%)]\tLoss: 0.154559\t Accuracy:88.912%\n",
      "Epoch : 0 [38400/51000 (75%)]\tLoss: 0.207683\t Accuracy:89.207%\n",
      "Epoch : 0 [40000/51000 (78%)]\tLoss: 0.043427\t Accuracy:89.488%\n",
      "Epoch : 0 [41600/51000 (82%)]\tLoss: 0.079289\t Accuracy:89.712%\n",
      "Epoch : 0 [43200/51000 (85%)]\tLoss: 0.178655\t Accuracy:89.950%\n",
      "Epoch : 0 [44800/51000 (88%)]\tLoss: 0.042073\t Accuracy:90.168%\n",
      "Epoch : 0 [46400/51000 (91%)]\tLoss: 0.178724\t Accuracy:90.386%\n",
      "Epoch : 0 [48000/51000 (94%)]\tLoss: 0.184877\t Accuracy:90.538%\n",
      "Epoch : 0 [49600/51000 (97%)]\tLoss: 0.369802\t Accuracy:90.710%\n",
      "Epoch : 1 [0/51000 (0%)]\tLoss: 0.115629\t Accuracy:96.875%\n",
      "Epoch : 1 [1600/51000 (3%)]\tLoss: 0.433377\t Accuracy:96.752%\n",
      "Epoch : 1 [3200/51000 (6%)]\tLoss: 0.175602\t Accuracy:96.813%\n",
      "Epoch : 1 [4800/51000 (9%)]\tLoss: 0.105660\t Accuracy:96.854%\n",
      "Epoch : 1 [6400/51000 (13%)]\tLoss: 0.088503\t Accuracy:96.502%\n",
      "Epoch : 1 [8000/51000 (16%)]\tLoss: 0.045780\t Accuracy:96.290%\n",
      "Epoch : 1 [9600/51000 (19%)]\tLoss: 0.027077\t Accuracy:96.325%\n",
      "Epoch : 1 [11200/51000 (22%)]\tLoss: 0.031489\t Accuracy:96.350%\n",
      "Epoch : 1 [12800/51000 (25%)]\tLoss: 0.070699\t Accuracy:96.517%\n",
      "Epoch : 1 [14400/51000 (28%)]\tLoss: 0.050800\t Accuracy:96.542%\n",
      "Epoch : 1 [16000/51000 (31%)]\tLoss: 0.063697\t Accuracy:96.638%\n",
      "Epoch : 1 [17600/51000 (35%)]\tLoss: 0.137681\t Accuracy:96.671%\n",
      "Epoch : 1 [19200/51000 (38%)]\tLoss: 0.070699\t Accuracy:96.631%\n",
      "Epoch : 1 [20800/51000 (41%)]\tLoss: 0.053164\t Accuracy:96.645%\n",
      "Epoch : 1 [22400/51000 (44%)]\tLoss: 0.382973\t Accuracy:96.603%\n",
      "Epoch : 1 [24000/51000 (47%)]\tLoss: 0.217853\t Accuracy:96.642%\n",
      "Epoch : 1 [25600/51000 (50%)]\tLoss: 0.203253\t Accuracy:96.610%\n",
      "Epoch : 1 [27200/51000 (53%)]\tLoss: 0.139116\t Accuracy:96.618%\n",
      "Epoch : 1 [28800/51000 (56%)]\tLoss: 0.008278\t Accuracy:96.632%\n",
      "Epoch : 1 [30400/51000 (60%)]\tLoss: 0.069225\t Accuracy:96.671%\n",
      "Epoch : 1 [32000/51000 (63%)]\tLoss: 0.050146\t Accuracy:96.697%\n",
      "Epoch : 1 [33600/51000 (66%)]\tLoss: 0.096058\t Accuracy:96.679%\n",
      "Epoch : 1 [35200/51000 (69%)]\tLoss: 0.028111\t Accuracy:96.691%\n",
      "Epoch : 1 [36800/51000 (72%)]\tLoss: 0.169700\t Accuracy:96.707%\n",
      "Epoch : 1 [38400/51000 (75%)]\tLoss: 0.181885\t Accuracy:96.701%\n",
      "Epoch : 1 [40000/51000 (78%)]\tLoss: 0.200702\t Accuracy:96.725%\n",
      "Epoch : 1 [41600/51000 (82%)]\tLoss: 0.010513\t Accuracy:96.740%\n",
      "Epoch : 1 [43200/51000 (85%)]\tLoss: 0.042671\t Accuracy:96.734%\n",
      "Epoch : 1 [44800/51000 (88%)]\tLoss: 0.059771\t Accuracy:96.734%\n",
      "Epoch : 1 [46400/51000 (91%)]\tLoss: 0.073248\t Accuracy:96.720%\n",
      "Epoch : 1 [48000/51000 (94%)]\tLoss: 0.351502\t Accuracy:96.736%\n",
      "Epoch : 1 [49600/51000 (97%)]\tLoss: 0.028683\t Accuracy:96.742%\n",
      "Epoch : 2 [0/51000 (0%)]\tLoss: 0.015755\t Accuracy:100.000%\n",
      "Epoch : 2 [1600/51000 (3%)]\tLoss: 0.015035\t Accuracy:97.610%\n",
      "Epoch : 2 [3200/51000 (6%)]\tLoss: 0.110037\t Accuracy:97.525%\n",
      "Epoch : 2 [4800/51000 (9%)]\tLoss: 0.056447\t Accuracy:97.413%\n",
      "Epoch : 2 [6400/51000 (13%)]\tLoss: 0.005206\t Accuracy:97.248%\n",
      "Epoch : 2 [8000/51000 (16%)]\tLoss: 0.014276\t Accuracy:97.298%\n",
      "Epoch : 2 [9600/51000 (19%)]\tLoss: 0.098483\t Accuracy:97.311%\n",
      "Epoch : 2 [11200/51000 (22%)]\tLoss: 0.318853\t Accuracy:97.293%\n",
      "Epoch : 2 [12800/51000 (25%)]\tLoss: 0.005666\t Accuracy:97.335%\n",
      "Epoch : 2 [14400/51000 (28%)]\tLoss: 0.102704\t Accuracy:97.298%\n",
      "Epoch : 2 [16000/51000 (31%)]\tLoss: 0.016627\t Accuracy:97.380%\n",
      "Epoch : 2 [17600/51000 (35%)]\tLoss: 0.375887\t Accuracy:97.340%\n",
      "Epoch : 2 [19200/51000 (38%)]\tLoss: 0.072743\t Accuracy:97.327%\n",
      "Epoch : 2 [20800/51000 (41%)]\tLoss: 0.157198\t Accuracy:97.297%\n",
      "Epoch : 2 [22400/51000 (44%)]\tLoss: 0.009297\t Accuracy:97.316%\n",
      "Epoch : 2 [24000/51000 (47%)]\tLoss: 0.104154\t Accuracy:97.324%\n",
      "Epoch : 2 [25600/51000 (50%)]\tLoss: 0.038898\t Accuracy:97.351%\n",
      "Epoch : 2 [27200/51000 (53%)]\tLoss: 0.016569\t Accuracy:97.382%\n",
      "Epoch : 2 [28800/51000 (56%)]\tLoss: 0.025679\t Accuracy:97.420%\n",
      "Epoch : 2 [30400/51000 (60%)]\tLoss: 0.053043\t Accuracy:97.401%\n",
      "Epoch : 2 [32000/51000 (63%)]\tLoss: 0.017144\t Accuracy:97.424%\n",
      "Epoch : 2 [33600/51000 (66%)]\tLoss: 0.257499\t Accuracy:97.434%\n",
      "Epoch : 2 [35200/51000 (69%)]\tLoss: 0.148645\t Accuracy:97.434%\n",
      "Epoch : 2 [36800/51000 (72%)]\tLoss: 0.030756\t Accuracy:97.415%\n",
      "Epoch : 2 [38400/51000 (75%)]\tLoss: 0.004741\t Accuracy:97.408%\n",
      "Epoch : 2 [40000/51000 (78%)]\tLoss: 0.338909\t Accuracy:97.405%\n",
      "Epoch : 2 [41600/51000 (82%)]\tLoss: 0.169689\t Accuracy:97.403%\n",
      "Epoch : 2 [43200/51000 (85%)]\tLoss: 0.039887\t Accuracy:97.405%\n",
      "Epoch : 2 [44800/51000 (88%)]\tLoss: 0.128057\t Accuracy:97.424%\n",
      "Epoch : 2 [46400/51000 (91%)]\tLoss: 0.006994\t Accuracy:97.418%\n",
      "Epoch : 2 [48000/51000 (94%)]\tLoss: 0.092961\t Accuracy:97.431%\n",
      "Epoch : 2 [49600/51000 (97%)]\tLoss: 0.061098\t Accuracy:97.427%\n",
      "Epoch : 3 [0/51000 (0%)]\tLoss: 0.104684\t Accuracy:96.875%\n",
      "Epoch : 3 [1600/51000 (3%)]\tLoss: 0.025165\t Accuracy:97.733%\n",
      "Epoch : 3 [3200/51000 (6%)]\tLoss: 0.015573\t Accuracy:97.896%\n",
      "Epoch : 3 [4800/51000 (9%)]\tLoss: 0.001860\t Accuracy:97.972%\n",
      "Epoch : 3 [6400/51000 (13%)]\tLoss: 0.089549\t Accuracy:98.041%\n",
      "Epoch : 3 [8000/51000 (16%)]\tLoss: 0.114279\t Accuracy:97.871%\n",
      "Epoch : 3 [9600/51000 (19%)]\tLoss: 0.028856\t Accuracy:97.841%\n",
      "Epoch : 3 [11200/51000 (22%)]\tLoss: 0.028218\t Accuracy:97.774%\n",
      "Epoch : 3 [12800/51000 (25%)]\tLoss: 0.029638\t Accuracy:97.756%\n",
      "Epoch : 3 [14400/51000 (28%)]\tLoss: 0.011239\t Accuracy:97.810%\n",
      "Epoch : 3 [16000/51000 (31%)]\tLoss: 0.315583\t Accuracy:97.829%\n",
      "Epoch : 3 [17600/51000 (35%)]\tLoss: 0.091184\t Accuracy:97.822%\n",
      "Epoch : 3 [19200/51000 (38%)]\tLoss: 0.008210\t Accuracy:97.801%\n",
      "Epoch : 3 [20800/51000 (41%)]\tLoss: 0.108101\t Accuracy:97.777%\n",
      "Epoch : 3 [22400/51000 (44%)]\tLoss: 0.007330\t Accuracy:97.775%\n",
      "Epoch : 3 [24000/51000 (47%)]\tLoss: 0.349300\t Accuracy:97.786%\n",
      "Epoch : 3 [25600/51000 (50%)]\tLoss: 0.080357\t Accuracy:97.741%\n",
      "Epoch : 3 [27200/51000 (53%)]\tLoss: 0.017629\t Accuracy:97.712%\n",
      "Epoch : 3 [28800/51000 (56%)]\tLoss: 0.033718\t Accuracy:97.721%\n",
      "Epoch : 3 [30400/51000 (60%)]\tLoss: 0.082120\t Accuracy:97.746%\n",
      "Epoch : 3 [32000/51000 (63%)]\tLoss: 0.005382\t Accuracy:97.743%\n",
      "Epoch : 3 [33600/51000 (66%)]\tLoss: 0.021756\t Accuracy:97.725%\n",
      "Epoch : 3 [35200/51000 (69%)]\tLoss: 0.033158\t Accuracy:97.709%\n",
      "Epoch : 3 [36800/51000 (72%)]\tLoss: 0.035896\t Accuracy:97.728%\n",
      "Epoch : 3 [38400/51000 (75%)]\tLoss: 0.005870\t Accuracy:97.728%\n",
      "Epoch : 3 [40000/51000 (78%)]\tLoss: 0.006329\t Accuracy:97.732%\n",
      "Epoch : 3 [41600/51000 (82%)]\tLoss: 0.020099\t Accuracy:97.723%\n",
      "Epoch : 3 [43200/51000 (85%)]\tLoss: 0.451443\t Accuracy:97.742%\n",
      "Epoch : 3 [44800/51000 (88%)]\tLoss: 0.293301\t Accuracy:97.745%\n",
      "Epoch : 3 [46400/51000 (91%)]\tLoss: 0.009588\t Accuracy:97.702%\n",
      "Epoch : 3 [48000/51000 (94%)]\tLoss: 0.008388\t Accuracy:97.704%\n",
      "Epoch : 3 [49600/51000 (97%)]\tLoss: 0.027295\t Accuracy:97.711%\n",
      "Epoch : 4 [0/51000 (0%)]\tLoss: 0.090637\t Accuracy:96.875%\n",
      "Epoch : 4 [1600/51000 (3%)]\tLoss: 0.499062\t Accuracy:97.672%\n",
      "Epoch : 4 [3200/51000 (6%)]\tLoss: 0.005973\t Accuracy:97.958%\n",
      "Epoch : 4 [4800/51000 (9%)]\tLoss: 0.007293\t Accuracy:98.096%\n",
      "Epoch : 4 [6400/51000 (13%)]\tLoss: 0.075235\t Accuracy:98.072%\n",
      "Epoch : 4 [8000/51000 (16%)]\tLoss: 0.080464\t Accuracy:98.108%\n",
      "Epoch : 4 [9600/51000 (19%)]\tLoss: 0.041072\t Accuracy:98.152%\n",
      "Epoch : 4 [11200/51000 (22%)]\tLoss: 0.049503\t Accuracy:98.104%\n",
      "Epoch : 4 [12800/51000 (25%)]\tLoss: 0.238497\t Accuracy:98.145%\n",
      "Epoch : 4 [14400/51000 (28%)]\tLoss: 0.100396\t Accuracy:98.178%\n",
      "Epoch : 4 [16000/51000 (31%)]\tLoss: 0.012159\t Accuracy:98.104%\n",
      "Epoch : 4 [17600/51000 (35%)]\tLoss: 0.031292\t Accuracy:98.049%\n",
      "Epoch : 4 [19200/51000 (38%)]\tLoss: 0.004136\t Accuracy:98.003%\n",
      "Epoch : 4 [20800/51000 (41%)]\tLoss: 0.115116\t Accuracy:97.965%\n",
      "Epoch : 4 [22400/51000 (44%)]\tLoss: 0.014049\t Accuracy:97.949%\n",
      "Epoch : 4 [24000/51000 (47%)]\tLoss: 0.017079\t Accuracy:97.940%\n",
      "Epoch : 4 [25600/51000 (50%)]\tLoss: 0.016425\t Accuracy:97.917%\n",
      "Epoch : 4 [27200/51000 (53%)]\tLoss: 0.034278\t Accuracy:97.914%\n",
      "Epoch : 4 [28800/51000 (56%)]\tLoss: 0.041311\t Accuracy:97.902%\n",
      "Epoch : 4 [30400/51000 (60%)]\tLoss: 0.249771\t Accuracy:97.913%\n",
      "Epoch : 4 [32000/51000 (63%)]\tLoss: 0.003789\t Accuracy:97.927%\n",
      "Epoch : 4 [33600/51000 (66%)]\tLoss: 0.028372\t Accuracy:97.922%\n",
      "Epoch : 4 [35200/51000 (69%)]\tLoss: 0.178850\t Accuracy:97.939%\n",
      "Epoch : 4 [36800/51000 (72%)]\tLoss: 0.156996\t Accuracy:97.931%\n",
      "Epoch : 4 [38400/51000 (75%)]\tLoss: 0.278129\t Accuracy:97.924%\n",
      "Epoch : 4 [40000/51000 (78%)]\tLoss: 0.043595\t Accuracy:97.934%\n",
      "Epoch : 4 [41600/51000 (82%)]\tLoss: 0.179146\t Accuracy:97.925%\n",
      "Epoch : 4 [43200/51000 (85%)]\tLoss: 0.233453\t Accuracy:97.927%\n",
      "Epoch : 4 [44800/51000 (88%)]\tLoss: 0.029581\t Accuracy:97.932%\n",
      "Epoch : 4 [46400/51000 (91%)]\tLoss: 0.004811\t Accuracy:97.943%\n",
      "Epoch : 4 [48000/51000 (94%)]\tLoss: 0.094756\t Accuracy:97.949%\n",
      "Epoch : 4 [49600/51000 (97%)]\tLoss: 0.014265\t Accuracy:97.937%\n"
     ]
    }
   ],
   "source": [
    "fit(cnn, train_loader)"
   ]
  },
  {
   "cell_type": "code",
   "execution_count": 31,
   "metadata": {},
   "outputs": [],
   "source": [
    "def evaluate(model):\n",
    "    correct = 0\n",
    "    for test_imgs, test_labels in test_loader:\n",
    "        test_imgs = Variable(test_imgs).float()\n",
    "        output = model(test_imgs)\n",
    "        predicted = torch.max(output, 1)[1]\n",
    "        correct += (predicted == test_labels).sum()\n",
    "    print(\"Test accuracy:{:.3f}%\".format(float(correct) / (len(test_loader)*BATCH_SIZE)))"
   ]
  },
  {
   "cell_type": "code",
   "execution_count": 32,
   "metadata": {},
   "outputs": [
    {
     "name": "stdout",
     "output_type": "stream",
     "text": [
      "Test accuracy:0.975%\n"
     ]
    }
   ],
   "source": [
    "evaluate(cnn)"
   ]
  },
  {
   "cell_type": "markdown",
   "metadata": {},
   "source": [
    "Save Model"
   ]
  },
  {
   "cell_type": "code",
   "execution_count": null,
   "metadata": {},
   "outputs": [],
   "source": [
    "torch.save(cnn.state_dict(), \"team6_final_weights.pth\")"
   ]
  }
 ],
 "metadata": {
  "colab": {
   "provenance": []
  },
  "kernelspec": {
   "display_name": "base",
   "language": "python",
   "name": "python3"
  },
  "language_info": {
   "codemirror_mode": {
    "name": "ipython",
    "version": 3
   },
   "file_extension": ".py",
   "mimetype": "text/x-python",
   "name": "python",
   "nbconvert_exporter": "python",
   "pygments_lexer": "ipython3",
   "version": "3.12.4"
  }
 },
 "nbformat": 4,
 "nbformat_minor": 0
}
