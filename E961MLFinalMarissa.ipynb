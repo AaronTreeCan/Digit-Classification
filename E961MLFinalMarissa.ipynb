{
 "cells": [
  {
   "cell_type": "markdown",
   "metadata": {},
   "source": [
    "Package Installs"
   ]
  },
  {
   "cell_type": "code",
   "execution_count": 1,
   "metadata": {},
   "outputs": [],
   "source": [
    "# %pip install numpy\n",
    "# %pip install scipy\n",
    "# %pip install torch\n",
    "# %pip install torchvision"
   ]
  },
  {
   "cell_type": "markdown",
   "metadata": {},
   "source": [
    "Imports"
   ]
  },
  {
   "cell_type": "code",
   "execution_count": 15,
   "metadata": {},
   "outputs": [],
   "source": [
    "import torch\n",
    "from torchvision.datasets import MNIST\n",
    "import torchvision.transforms as transforms\n",
    "from torch.utils.data import random_split, DataLoader\n",
    "import torch.nn as nn\n",
    "import torch.nn.functional as F\n",
    "from torch.autograd import Variable"
   ]
  },
  {
   "cell_type": "markdown",
   "metadata": {},
   "source": [
    "Load Data"
   ]
  },
  {
   "cell_type": "code",
   "execution_count": 16,
   "metadata": {},
   "outputs": [
    {
     "name": "stdout",
     "output_type": "stream",
     "text": [
      "60000\n"
     ]
    }
   ],
   "source": [
    "dataset = MNIST(root='./data', train=True, download=True, transform=transforms.ToTensor())\n",
    "print(len(dataset))"
   ]
  },
  {
   "cell_type": "markdown",
   "metadata": {},
   "source": [
    "Data Preprocessing"
   ]
  },
  {
   "cell_type": "code",
   "execution_count": 17,
   "metadata": {},
   "outputs": [
    {
     "name": "stdout",
     "output_type": "stream",
     "text": [
      "length of Train Datasets:  51000\n",
      "length of Validation Datasets:  9000\n"
     ]
    }
   ],
   "source": [
    "BATCH_SIZE = 32\n",
    "train_data, test_data = random_split(dataset, [51000, 9000]) # like train_test_split test_size=0.15\n",
    "print(\"length of Train Datasets: \", len(train_data))\n",
    "print(\"length of Validation Datasets: \", len(test_data))\n",
    "\n",
    "train_loader = DataLoader(train_data, batch_size=BATCH_SIZE, shuffle = True)\n",
    "test_loader = DataLoader(test_data, batch_size=BATCH_SIZE, shuffle = True)\n"
   ]
  },
  {
   "cell_type": "markdown",
   "metadata": {},
   "source": [
    "Model"
   ]
  },
  {
   "cell_type": "code",
   "execution_count": null,
   "metadata": {},
   "outputs": [
    {
     "name": "stdout",
     "output_type": "stream",
     "text": [
      "Classifier6(\n",
      "  (conv1): Conv2d(1, 32, kernel_size=(5, 5), stride=(1, 1))\n",
      "  (conv2): Conv2d(32, 32, kernel_size=(5, 5), stride=(1, 1))\n",
      "  (conv3): Conv2d(32, 64, kernel_size=(5, 5), stride=(1, 1))\n",
      "  (fc1): Linear(in_features=576, out_features=256, bias=True)\n",
      "  (fc2): Linear(in_features=256, out_features=10, bias=True)\n",
      ")\n",
      "torch.Size([32, 10])\n"
     ]
    }
   ],
   "source": [
    "class Classifier6(nn.Module):\n",
    "    def __init__(self):\n",
    "        super(Classifier6, self).__init__()\n",
    "        self.conv1 = nn.Conv2d(1, 32, kernel_size=5)\n",
    "        self.conv2 = nn.Conv2d(32, 32, kernel_size=5)\n",
    "        self.conv3 = nn.Conv2d(32, 64, kernel_size=5)\n",
    "        self.fc1 = nn.Linear(3*3*64, 256)\n",
    "        self.fc2 = nn.Linear(256, 10)\n",
    "    \n",
    "    def forward(self, x):\n",
    "        x = F.relu(self.conv1(x))\n",
    "        x = F.relu(F.max_pool2d(self.conv2(x), 2))\n",
    "        x = F.dropout(x, p=0.5, training=self.training)\n",
    "        x = F.relu(F.max_pool2d(self.conv3(x), 2))\n",
    "        x = F.dropout(x, p=0.5, training=self.training)\n",
    "        x = x.view(-1, 3*3*64)\n",
    "        x = F.relu(self.fc1(x))\n",
    "        x = F.dropout(x, training=self.training)\n",
    "        x = self.fc2(x)\n",
    "        return F.log_softmax(x, dim=1)\n",
    "\n",
    "cnn = Classifier6()\n",
    "print(cnn)\n",
    "it = iter(train_loader)\n",
    "X_batch, y_batch = next(it)\n",
    "print(cnn.forward(X_batch).shape)"
   ]
  },
  {
   "cell_type": "code",
   "execution_count": 18,
   "metadata": {},
   "outputs": [],
   "source": [
    "def fit(model, train_loader):\n",
    "    optimizer = torch.optim.Adam(model.parameters())\n",
    "    error = nn.CrossEntropyLoss()\n",
    "    EPOCHS = 5\n",
    "    model.train()\n",
    "    for epoch in range(EPOCHS):\n",
    "        correct = 0\n",
    "        for batch_idx, (X_batch, y_batch) in enumerate(train_loader):\n",
    "            var_X_batch = Variable(X_batch).float()\n",
    "            var_y_batch = Variable(y_batch)\n",
    "            optimizer.zero_grad()\n",
    "            output = model(var_X_batch)\n",
    "            loss = error(output, var_y_batch)\n",
    "            loss.backward()\n",
    "            optimizer.step()\n",
    "\n",
    "            predicted = torch.max(output.data, 1)[1]\n",
    "            correct += (predicted == var_y_batch).sum()\n",
    "            if batch_idx % 50 == 0:\n",
    "                print('Epoch : {} [{}/{} ({:.0f}%)]\\tLoss: {:.6f}\\t Accuracy:{:.3f}%'.format(\n",
    "                    epoch, batch_idx*len(X_batch), len(train_loader.dataset), 100.*batch_idx / len(train_loader), loss.data, float(correct*100) / float(BATCH_SIZE*(batch_idx+1))))"
   ]
  },
  {
   "cell_type": "code",
   "execution_count": 19,
   "metadata": {},
   "outputs": [
    {
     "name": "stdout",
     "output_type": "stream",
     "text": [
      "Epoch : 0 [0/51000 (0%)]\tLoss: 0.142702\t Accuracy:96.875%\n",
      "Epoch : 0 [1600/51000 (3%)]\tLoss: 0.002826\t Accuracy:98.100%\n",
      "Epoch : 0 [3200/51000 (6%)]\tLoss: 0.257356\t Accuracy:98.082%\n",
      "Epoch : 0 [4800/51000 (9%)]\tLoss: 0.113663\t Accuracy:98.158%\n",
      "Epoch : 0 [6400/51000 (13%)]\tLoss: 0.025416\t Accuracy:98.134%\n",
      "Epoch : 0 [8000/51000 (16%)]\tLoss: 0.018099\t Accuracy:98.045%\n",
      "Epoch : 0 [9600/51000 (19%)]\tLoss: 0.164538\t Accuracy:98.007%\n",
      "Epoch : 0 [11200/51000 (22%)]\tLoss: 0.011601\t Accuracy:97.997%\n",
      "Epoch : 0 [12800/51000 (25%)]\tLoss: 0.424919\t Accuracy:97.935%\n",
      "Epoch : 0 [14400/51000 (28%)]\tLoss: 0.093743\t Accuracy:97.984%\n",
      "Epoch : 0 [16000/51000 (31%)]\tLoss: 0.248974\t Accuracy:97.923%\n",
      "Epoch : 0 [17600/51000 (35%)]\tLoss: 0.011454\t Accuracy:97.913%\n",
      "Epoch : 0 [19200/51000 (38%)]\tLoss: 0.117524\t Accuracy:97.931%\n",
      "Epoch : 0 [20800/51000 (41%)]\tLoss: 0.130727\t Accuracy:97.926%\n",
      "Epoch : 0 [22400/51000 (44%)]\tLoss: 0.003045\t Accuracy:97.954%\n",
      "Epoch : 0 [24000/51000 (47%)]\tLoss: 0.002323\t Accuracy:97.949%\n",
      "Epoch : 0 [25600/51000 (50%)]\tLoss: 0.289817\t Accuracy:97.983%\n",
      "Epoch : 0 [27200/51000 (53%)]\tLoss: 0.070053\t Accuracy:97.955%\n",
      "Epoch : 0 [28800/51000 (56%)]\tLoss: 0.078227\t Accuracy:97.950%\n",
      "Epoch : 0 [30400/51000 (60%)]\tLoss: 0.207614\t Accuracy:97.959%\n",
      "Epoch : 0 [32000/51000 (63%)]\tLoss: 0.023899\t Accuracy:97.940%\n",
      "Epoch : 0 [33600/51000 (66%)]\tLoss: 0.028957\t Accuracy:97.963%\n",
      "Epoch : 0 [35200/51000 (69%)]\tLoss: 0.050089\t Accuracy:97.988%\n",
      "Epoch : 0 [36800/51000 (72%)]\tLoss: 0.029355\t Accuracy:97.961%\n",
      "Epoch : 0 [38400/51000 (75%)]\tLoss: 0.200463\t Accuracy:97.942%\n",
      "Epoch : 0 [40000/51000 (78%)]\tLoss: 0.034871\t Accuracy:97.967%\n",
      "Epoch : 0 [41600/51000 (82%)]\tLoss: 0.048707\t Accuracy:97.944%\n",
      "Epoch : 0 [43200/51000 (85%)]\tLoss: 0.423593\t Accuracy:97.930%\n",
      "Epoch : 0 [44800/51000 (88%)]\tLoss: 0.015916\t Accuracy:97.935%\n",
      "Epoch : 0 [46400/51000 (91%)]\tLoss: 0.007010\t Accuracy:97.948%\n",
      "Epoch : 0 [48000/51000 (94%)]\tLoss: 0.292660\t Accuracy:97.956%\n",
      "Epoch : 0 [49600/51000 (97%)]\tLoss: 0.005566\t Accuracy:97.957%\n",
      "Epoch : 1 [0/51000 (0%)]\tLoss: 0.020840\t Accuracy:100.000%\n",
      "Epoch : 1 [1600/51000 (3%)]\tLoss: 0.345029\t Accuracy:98.284%\n",
      "Epoch : 1 [3200/51000 (6%)]\tLoss: 0.005449\t Accuracy:98.144%\n",
      "Epoch : 1 [4800/51000 (9%)]\tLoss: 0.001565\t Accuracy:98.241%\n",
      "Epoch : 1 [6400/51000 (13%)]\tLoss: 0.062041\t Accuracy:98.134%\n",
      "Epoch : 1 [8000/51000 (16%)]\tLoss: 0.069108\t Accuracy:98.120%\n",
      "Epoch : 1 [9600/51000 (19%)]\tLoss: 0.007251\t Accuracy:98.173%\n",
      "Epoch : 1 [11200/51000 (22%)]\tLoss: 0.035585\t Accuracy:98.210%\n",
      "Epoch : 1 [12800/51000 (25%)]\tLoss: 0.184106\t Accuracy:98.239%\n",
      "Epoch : 1 [14400/51000 (28%)]\tLoss: 0.104143\t Accuracy:98.219%\n",
      "Epoch : 1 [16000/51000 (31%)]\tLoss: 0.104784\t Accuracy:98.147%\n",
      "Epoch : 1 [17600/51000 (35%)]\tLoss: 0.045018\t Accuracy:98.162%\n",
      "Epoch : 1 [19200/51000 (38%)]\tLoss: 0.067619\t Accuracy:98.165%\n",
      "Epoch : 1 [20800/51000 (41%)]\tLoss: 0.496489\t Accuracy:98.142%\n",
      "Epoch : 1 [22400/51000 (44%)]\tLoss: 0.042887\t Accuracy:98.137%\n",
      "Epoch : 1 [24000/51000 (47%)]\tLoss: 0.055195\t Accuracy:98.157%\n",
      "Epoch : 1 [25600/51000 (50%)]\tLoss: 0.083574\t Accuracy:98.170%\n",
      "Epoch : 1 [27200/51000 (53%)]\tLoss: 0.219980\t Accuracy:98.127%\n",
      "Epoch : 1 [28800/51000 (56%)]\tLoss: 0.135752\t Accuracy:98.089%\n",
      "Epoch : 1 [30400/51000 (60%)]\tLoss: 0.023809\t Accuracy:98.065%\n",
      "Epoch : 1 [32000/51000 (63%)]\tLoss: 0.003528\t Accuracy:98.093%\n",
      "Epoch : 1 [33600/51000 (66%)]\tLoss: 0.012505\t Accuracy:98.100%\n",
      "Epoch : 1 [35200/51000 (69%)]\tLoss: 0.079626\t Accuracy:98.113%\n",
      "Epoch : 1 [36800/51000 (72%)]\tLoss: 0.003986\t Accuracy:98.110%\n",
      "Epoch : 1 [38400/51000 (75%)]\tLoss: 0.102337\t Accuracy:98.093%\n",
      "Epoch : 1 [40000/51000 (78%)]\tLoss: 0.037058\t Accuracy:98.097%\n",
      "Epoch : 1 [41600/51000 (82%)]\tLoss: 0.037409\t Accuracy:98.114%\n",
      "Epoch : 1 [43200/51000 (85%)]\tLoss: 0.050640\t Accuracy:98.113%\n",
      "Epoch : 1 [44800/51000 (88%)]\tLoss: 0.377666\t Accuracy:98.113%\n",
      "Epoch : 1 [46400/51000 (91%)]\tLoss: 0.011077\t Accuracy:98.107%\n",
      "Epoch : 1 [48000/51000 (94%)]\tLoss: 0.112584\t Accuracy:98.114%\n",
      "Epoch : 1 [49600/51000 (97%)]\tLoss: 0.149265\t Accuracy:98.100%\n",
      "Epoch : 2 [0/51000 (0%)]\tLoss: 0.347147\t Accuracy:93.750%\n",
      "Epoch : 2 [1600/51000 (3%)]\tLoss: 0.013237\t Accuracy:98.284%\n",
      "Epoch : 2 [3200/51000 (6%)]\tLoss: 0.006724\t Accuracy:98.546%\n",
      "Epoch : 2 [4800/51000 (9%)]\tLoss: 0.093064\t Accuracy:98.655%\n",
      "Epoch : 2 [6400/51000 (13%)]\tLoss: 0.000340\t Accuracy:98.601%\n",
      "Epoch : 2 [8000/51000 (16%)]\tLoss: 0.013801\t Accuracy:98.556%\n",
      "Epoch : 2 [9600/51000 (19%)]\tLoss: 0.001387\t Accuracy:98.536%\n",
      "Epoch : 2 [11200/51000 (22%)]\tLoss: 0.021174\t Accuracy:98.531%\n",
      "Epoch : 2 [12800/51000 (25%)]\tLoss: 0.138938\t Accuracy:98.418%\n",
      "Epoch : 2 [14400/51000 (28%)]\tLoss: 0.039014\t Accuracy:98.275%\n",
      "Epoch : 2 [16000/51000 (31%)]\tLoss: 0.003356\t Accuracy:98.353%\n",
      "Epoch : 2 [17600/51000 (35%)]\tLoss: 0.015079\t Accuracy:98.367%\n",
      "Epoch : 2 [19200/51000 (38%)]\tLoss: 0.061169\t Accuracy:98.352%\n",
      "Epoch : 2 [20800/51000 (41%)]\tLoss: 0.043481\t Accuracy:98.353%\n",
      "Epoch : 2 [22400/51000 (44%)]\tLoss: 0.022258\t Accuracy:98.310%\n",
      "Epoch : 2 [24000/51000 (47%)]\tLoss: 0.119026\t Accuracy:98.311%\n",
      "Epoch : 2 [25600/51000 (50%)]\tLoss: 0.256534\t Accuracy:98.315%\n",
      "Epoch : 2 [27200/51000 (53%)]\tLoss: 0.035722\t Accuracy:98.285%\n",
      "Epoch : 2 [28800/51000 (56%)]\tLoss: 0.049673\t Accuracy:98.273%\n",
      "Epoch : 2 [30400/51000 (60%)]\tLoss: 0.005568\t Accuracy:98.272%\n",
      "Epoch : 2 [32000/51000 (63%)]\tLoss: 0.127672\t Accuracy:98.239%\n",
      "Epoch : 2 [33600/51000 (66%)]\tLoss: 0.064327\t Accuracy:98.240%\n",
      "Epoch : 2 [35200/51000 (69%)]\tLoss: 0.042612\t Accuracy:98.252%\n",
      "Epoch : 2 [36800/51000 (72%)]\tLoss: 0.069891\t Accuracy:98.243%\n",
      "Epoch : 2 [38400/51000 (75%)]\tLoss: 0.167087\t Accuracy:98.241%\n",
      "Epoch : 2 [40000/51000 (78%)]\tLoss: 0.062983\t Accuracy:98.246%\n",
      "Epoch : 2 [41600/51000 (82%)]\tLoss: 0.047138\t Accuracy:98.227%\n",
      "Epoch : 2 [43200/51000 (85%)]\tLoss: 0.117667\t Accuracy:98.224%\n",
      "Epoch : 2 [44800/51000 (88%)]\tLoss: 0.017713\t Accuracy:98.236%\n",
      "Epoch : 2 [46400/51000 (91%)]\tLoss: 0.009404\t Accuracy:98.217%\n",
      "Epoch : 2 [48000/51000 (94%)]\tLoss: 0.049579\t Accuracy:98.205%\n",
      "Epoch : 2 [49600/51000 (97%)]\tLoss: 0.192549\t Accuracy:98.191%\n",
      "Epoch : 3 [0/51000 (0%)]\tLoss: 0.091956\t Accuracy:96.875%\n",
      "Epoch : 3 [1600/51000 (3%)]\tLoss: 0.005090\t Accuracy:98.346%\n",
      "Epoch : 3 [3200/51000 (6%)]\tLoss: 0.010327\t Accuracy:98.113%\n",
      "Epoch : 3 [4800/51000 (9%)]\tLoss: 0.208285\t Accuracy:98.034%\n",
      "Epoch : 3 [6400/51000 (13%)]\tLoss: 0.013439\t Accuracy:98.134%\n",
      "Epoch : 3 [8000/51000 (16%)]\tLoss: 0.099086\t Accuracy:98.257%\n",
      "Epoch : 3 [9600/51000 (19%)]\tLoss: 0.002595\t Accuracy:98.225%\n",
      "Epoch : 3 [11200/51000 (22%)]\tLoss: 0.010726\t Accuracy:98.228%\n",
      "Epoch : 3 [12800/51000 (25%)]\tLoss: 0.058873\t Accuracy:98.278%\n",
      "Epoch : 3 [14400/51000 (28%)]\tLoss: 0.002429\t Accuracy:98.316%\n",
      "Epoch : 3 [16000/51000 (31%)]\tLoss: 0.090910\t Accuracy:98.322%\n",
      "Epoch : 3 [17600/51000 (35%)]\tLoss: 0.001468\t Accuracy:98.304%\n",
      "Epoch : 3 [19200/51000 (38%)]\tLoss: 0.206635\t Accuracy:98.263%\n",
      "Epoch : 3 [20800/51000 (41%)]\tLoss: 0.252567\t Accuracy:98.214%\n",
      "Epoch : 3 [22400/51000 (44%)]\tLoss: 0.028788\t Accuracy:98.190%\n",
      "Epoch : 3 [24000/51000 (47%)]\tLoss: 0.077582\t Accuracy:98.169%\n",
      "Epoch : 3 [25600/51000 (50%)]\tLoss: 0.082509\t Accuracy:98.135%\n",
      "Epoch : 3 [27200/51000 (53%)]\tLoss: 0.045408\t Accuracy:98.120%\n",
      "Epoch : 3 [28800/51000 (56%)]\tLoss: 0.007499\t Accuracy:98.117%\n",
      "Epoch : 3 [30400/51000 (60%)]\tLoss: 0.010130\t Accuracy:98.101%\n",
      "Epoch : 3 [32000/51000 (63%)]\tLoss: 0.009189\t Accuracy:98.080%\n",
      "Epoch : 3 [33600/51000 (66%)]\tLoss: 0.145319\t Accuracy:98.082%\n",
      "Epoch : 3 [35200/51000 (69%)]\tLoss: 0.081035\t Accuracy:98.076%\n",
      "Epoch : 3 [36800/51000 (72%)]\tLoss: 0.198040\t Accuracy:98.070%\n",
      "Epoch : 3 [38400/51000 (75%)]\tLoss: 0.065379\t Accuracy:98.095%\n",
      "Epoch : 3 [40000/51000 (78%)]\tLoss: 0.046644\t Accuracy:98.094%\n",
      "Epoch : 3 [41600/51000 (82%)]\tLoss: 0.016920\t Accuracy:98.098%\n",
      "Epoch : 3 [43200/51000 (85%)]\tLoss: 0.004209\t Accuracy:98.110%\n",
      "Epoch : 3 [44800/51000 (88%)]\tLoss: 0.004591\t Accuracy:98.115%\n",
      "Epoch : 3 [46400/51000 (91%)]\tLoss: 0.038986\t Accuracy:98.146%\n",
      "Epoch : 3 [48000/51000 (94%)]\tLoss: 0.090885\t Accuracy:98.145%\n",
      "Epoch : 3 [49600/51000 (97%)]\tLoss: 0.107677\t Accuracy:98.150%\n",
      "Epoch : 4 [0/51000 (0%)]\tLoss: 0.029046\t Accuracy:100.000%\n",
      "Epoch : 4 [1600/51000 (3%)]\tLoss: 0.188693\t Accuracy:98.284%\n",
      "Epoch : 4 [3200/51000 (6%)]\tLoss: 0.000918\t Accuracy:98.329%\n",
      "Epoch : 4 [4800/51000 (9%)]\tLoss: 0.112360\t Accuracy:98.220%\n",
      "Epoch : 4 [6400/51000 (13%)]\tLoss: 0.003815\t Accuracy:98.352%\n",
      "Epoch : 4 [8000/51000 (16%)]\tLoss: 0.044472\t Accuracy:98.406%\n",
      "Epoch : 4 [9600/51000 (19%)]\tLoss: 0.075143\t Accuracy:98.370%\n",
      "Epoch : 4 [11200/51000 (22%)]\tLoss: 0.020004\t Accuracy:98.344%\n",
      "Epoch : 4 [12800/51000 (25%)]\tLoss: 0.049120\t Accuracy:98.426%\n",
      "Epoch : 4 [14400/51000 (28%)]\tLoss: 0.005623\t Accuracy:98.365%\n",
      "Epoch : 4 [16000/51000 (31%)]\tLoss: 0.003103\t Accuracy:98.372%\n",
      "Epoch : 4 [17600/51000 (35%)]\tLoss: 0.003804\t Accuracy:98.372%\n",
      "Epoch : 4 [19200/51000 (38%)]\tLoss: 0.070448\t Accuracy:98.341%\n",
      "Epoch : 4 [20800/51000 (41%)]\tLoss: 0.069308\t Accuracy:98.349%\n",
      "Epoch : 4 [22400/51000 (44%)]\tLoss: 0.207536\t Accuracy:98.346%\n",
      "Epoch : 4 [24000/51000 (47%)]\tLoss: 0.033004\t Accuracy:98.286%\n",
      "Epoch : 4 [25600/51000 (50%)]\tLoss: 0.404637\t Accuracy:98.244%\n",
      "Epoch : 4 [27200/51000 (53%)]\tLoss: 0.002169\t Accuracy:98.237%\n",
      "Epoch : 4 [28800/51000 (56%)]\tLoss: 0.199276\t Accuracy:98.248%\n",
      "Epoch : 4 [30400/51000 (60%)]\tLoss: 0.083926\t Accuracy:98.209%\n",
      "Epoch : 4 [32000/51000 (63%)]\tLoss: 0.043348\t Accuracy:98.214%\n",
      "Epoch : 4 [33600/51000 (66%)]\tLoss: 0.070066\t Accuracy:98.231%\n",
      "Epoch : 4 [35200/51000 (69%)]\tLoss: 0.015242\t Accuracy:98.215%\n",
      "Epoch : 4 [36800/51000 (72%)]\tLoss: 0.015232\t Accuracy:98.246%\n",
      "Epoch : 4 [38400/51000 (75%)]\tLoss: 0.030685\t Accuracy:98.233%\n",
      "Epoch : 4 [40000/51000 (78%)]\tLoss: 0.010082\t Accuracy:98.241%\n",
      "Epoch : 4 [41600/51000 (82%)]\tLoss: 0.035945\t Accuracy:98.249%\n",
      "Epoch : 4 [43200/51000 (85%)]\tLoss: 0.168515\t Accuracy:98.242%\n",
      "Epoch : 4 [44800/51000 (88%)]\tLoss: 0.006723\t Accuracy:98.240%\n",
      "Epoch : 4 [46400/51000 (91%)]\tLoss: 0.122810\t Accuracy:98.225%\n",
      "Epoch : 4 [48000/51000 (94%)]\tLoss: 0.001120\t Accuracy:98.243%\n",
      "Epoch : 4 [49600/51000 (97%)]\tLoss: 0.102087\t Accuracy:98.247%\n"
     ]
    }
   ],
   "source": [
    "fit(cnn, train_loader)"
   ]
  },
  {
   "cell_type": "code",
   "execution_count": 12,
   "metadata": {},
   "outputs": [],
   "source": [
    "def evaluate(model):\n",
    "    correct = 0\n",
    "    for test_imgs, test_labels in test_loader:\n",
    "        test_imgs = Variable(test_imgs).float()\n",
    "        output = model(test_imgs)\n",
    "        predicted = torch.max(output, 1)[1]\n",
    "        correct += (predicted == test_labels).sum()\n",
    "    print(\"Test accuracy:{:.3f}%\".format(float(correct) / (len(test_loader)*BATCH_SIZE)))"
   ]
  },
  {
   "cell_type": "code",
   "execution_count": 13,
   "metadata": {},
   "outputs": [
    {
     "name": "stdout",
     "output_type": "stream",
     "text": [
      "Test accuracy:0.977%\n"
     ]
    }
   ],
   "source": [
    "evaluate(cnn)"
   ]
  },
  {
   "cell_type": "code",
   "execution_count": 10,
   "metadata": {},
   "outputs": [
    {
     "name": "stdout",
     "output_type": "stream",
     "text": [
      "tensor([8])\n",
      "tensor([8])\n",
      "tensor([8])\n",
      "tensor([1])\n",
      "tensor([8])\n",
      "tensor([8])\n",
      "tensor([8])\n",
      "tensor([8])\n",
      "tensor([8])\n",
      "tensor([8])\n"
     ]
    }
   ],
   "source": [
    "# test handwritten digits\n",
    "from PIL import Image\n",
    "import numpy as np\n",
    "\n",
    "\n",
    "# Load the image, replace with custom file path\n",
    "image_path = [\n",
    "    \"0.png\",\n",
    "    \"1.png\",\n",
    "    \"2.png\",\n",
    "    \"3.png\",\n",
    "    \"4.png\",\n",
    "    \"5.png\",\n",
    "    \"6.png\",\n",
    "    \"7.png\",\n",
    "    \"8.png\",\n",
    "    \"9.png\",\n",
    "]  \n",
    "for path in image_path:\n",
    "    image = Image.open(path)\n",
    "\n",
    "    # convert to greyscale & resize\n",
    "    image = image.convert(\"L\")\n",
    "    image = image.resize((28,28))\n",
    "\n",
    "    # convert to tensor\n",
    "    transform = transforms.ToTensor()\n",
    "    image_tr = transform(image)\n",
    "    image_tr = image_tr.unsqueeze(dim=0) # add batch dimension\n",
    "\n",
    "    pred = cnn(image_tr)\n",
    "    vals, indeces = torch.max( pred, dim=1  )\n",
    "    preds = indeces\n",
    "    print(preds)"
   ]
  },
  {
   "cell_type": "markdown",
   "metadata": {},
   "source": [
    "Save Model"
   ]
  },
  {
   "cell_type": "code",
   "execution_count": 14,
   "metadata": {},
   "outputs": [],
   "source": [
    "torch.save(cnn.state_dict(), \"team6_final_weights.pth\")"
   ]
  }
 ],
 "metadata": {
  "colab": {
   "provenance": []
  },
  "kernelspec": {
   "display_name": "base",
   "language": "python",
   "name": "python3"
  },
  "language_info": {
   "codemirror_mode": {
    "name": "ipython",
    "version": 3
   },
   "file_extension": ".py",
   "mimetype": "text/x-python",
   "name": "python",
   "nbconvert_exporter": "python",
   "pygments_lexer": "ipython3",
   "version": "3.12.4"
  }
 },
 "nbformat": 4,
 "nbformat_minor": 0
}
