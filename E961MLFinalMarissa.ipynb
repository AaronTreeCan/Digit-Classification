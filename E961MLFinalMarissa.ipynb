{
 "cells": [
  {
   "cell_type": "markdown",
   "metadata": {},
   "source": [
    "Package Installs"
   ]
  },
  {
   "cell_type": "code",
   "execution_count": 1,
   "metadata": {},
   "outputs": [],
   "source": [
    "# %pip install numpy\n",
    "# %pip install scipy\n",
    "# %pip install torch\n",
    "# %pip install torchvision"
   ]
  },
  {
   "cell_type": "markdown",
   "metadata": {},
   "source": [
    "Imports"
   ]
  },
  {
   "cell_type": "code",
   "execution_count": 2,
   "metadata": {},
   "outputs": [],
   "source": [
    "import torch\n",
    "from torchvision.datasets import MNIST\n",
    "import torchvision.transforms as transforms\n",
    "from torch.utils.data import random_split, DataLoader\n",
    "import torch.nn as nn\n",
    "import torch.nn.functional as F\n",
    "from torch.autograd import Variable"
   ]
  },
  {
   "cell_type": "markdown",
   "metadata": {},
   "source": [
    "Load Data"
   ]
  },
  {
   "cell_type": "code",
   "execution_count": 3,
   "metadata": {},
   "outputs": [
    {
     "name": "stdout",
     "output_type": "stream",
     "text": [
      "60000\n"
     ]
    }
   ],
   "source": [
    "dataset = MNIST(root='./data', train=True, download=True, transform=transforms.ToTensor())\n",
    "print(len(dataset))"
   ]
  },
  {
   "cell_type": "markdown",
   "metadata": {},
   "source": [
    "Data Preprocessing"
   ]
  },
  {
   "cell_type": "code",
   "execution_count": 4,
   "metadata": {},
   "outputs": [
    {
     "name": "stdout",
     "output_type": "stream",
     "text": [
      "length of Train Datasets:  51000\n",
      "length of Validation Datasets:  9000\n"
     ]
    }
   ],
   "source": [
    "BATCH_SIZE = 32\n",
    "train_data, test_data = random_split(dataset, [51000, 9000]) # like train_test_split test_size=0.15\n",
    "print(\"length of Train Datasets: \", len(train_data))\n",
    "print(\"length of Validation Datasets: \", len(test_data))\n",
    "\n",
    "train_loader = DataLoader(train_data, batch_size=BATCH_SIZE, shuffle = True)\n",
    "test_loader = DataLoader(test_data, batch_size=BATCH_SIZE, shuffle = True)\n"
   ]
  },
  {
   "cell_type": "markdown",
   "metadata": {},
   "source": [
    "Model"
   ]
  },
  {
   "cell_type": "code",
   "execution_count": 5,
   "metadata": {},
   "outputs": [
    {
     "name": "stdout",
     "output_type": "stream",
     "text": [
      "Classifier6(\n",
      "  (conv1): Conv2d(1, 32, kernel_size=(5, 5), stride=(1, 1))\n",
      "  (conv2): Conv2d(32, 32, kernel_size=(5, 5), stride=(1, 1))\n",
      "  (conv3): Conv2d(32, 64, kernel_size=(5, 5), stride=(1, 1))\n",
      "  (fc1): Linear(in_features=576, out_features=256, bias=True)\n",
      "  (fc2): Linear(in_features=256, out_features=10, bias=True)\n",
      ")\n",
      "torch.Size([32, 10])\n"
     ]
    }
   ],
   "source": [
    "class Classifier6(nn.Module):\n",
    "    def __init__(self):\n",
    "        super(Classifier6, self).__init__()\n",
    "        self.conv1 = nn.Conv2d(1, 32, kernel_size=5)\n",
    "        self.conv2 = nn.Conv2d(32, 32, kernel_size=5)\n",
    "        self.conv3 = nn.Conv2d(32, 64, kernel_size=5)\n",
    "        self.fc1 = nn.Linear(3*3*64, 256)\n",
    "        self.fc2 = nn.Linear(256, 10)\n",
    "    \n",
    "    def forward(self, x):\n",
    "        x = F.relu(self.conv1(x))\n",
    "        x = F.relu(F.max_pool2d(self.conv2(x), 2))\n",
    "        x = F.dropout(x, p=0.5, training=self.training)\n",
    "        x = F.relu(F.max_pool2d(self.conv3(x), 2))\n",
    "        x = F.dropout(x, p=0.5, training=self.training)\n",
    "        x = x.view(-1, 3*3*64)\n",
    "        x = F.relu(self.fc1(x))\n",
    "        x = F.dropout(x, training=self.training)\n",
    "        x = self.fc2(x)\n",
    "        return F.log_softmax(x, dim=1)\n",
    "\n",
    "cnn = Classifier6()\n",
    "print(cnn)\n",
    "it = iter(train_loader)\n",
    "X_batch, y_batch = next(it)\n",
    "print(cnn.forward(X_batch).shape)"
   ]
  },
  {
   "cell_type": "code",
   "execution_count": 6,
   "metadata": {},
   "outputs": [],
   "source": [
    "def fit(model, train_loader):\n",
    "    optimizer = torch.optim.Adam(model.parameters())\n",
    "    error = nn.CrossEntropyLoss()\n",
    "    EPOCHS = 5\n",
    "    model.train()\n",
    "    for epoch in range(EPOCHS):\n",
    "        correct = 0\n",
    "        for batch_idx, (X_batch, y_batch) in enumerate(train_loader):\n",
    "            var_X_batch = Variable(X_batch).float()\n",
    "            var_y_batch = Variable(y_batch)\n",
    "            optimizer.zero_grad()\n",
    "            output = model(var_X_batch)\n",
    "            loss = error(output, var_y_batch)\n",
    "            loss.backward()\n",
    "            optimizer.step()\n",
    "\n",
    "            predicted = torch.max(output.data, 1)[1]\n",
    "            correct += (predicted == var_y_batch).sum()\n",
    "            if batch_idx % 50 == 0:\n",
    "                print('Epoch : {} [{}/{} ({:.0f}%)]\\tLoss: {:.6f}\\t Accuracy:{:.3f}%'.format(\n",
    "                    epoch, batch_idx*len(X_batch), len(train_loader.dataset), 100.*batch_idx / len(train_loader), loss.data, float(correct*100) / float(BATCH_SIZE*(batch_idx+1))))"
   ]
  },
  {
   "cell_type": "code",
   "execution_count": 7,
   "metadata": {},
   "outputs": [
    {
     "name": "stdout",
     "output_type": "stream",
     "text": [
      "Epoch : 0 [0/51000 (0%)]\tLoss: 2.316899\t Accuracy:12.500%\n",
      "Epoch : 0 [1600/51000 (3%)]\tLoss: 1.328198\t Accuracy:31.311%\n",
      "Epoch : 0 [3200/51000 (6%)]\tLoss: 0.461243\t Accuracy:51.856%\n",
      "Epoch : 0 [4800/51000 (9%)]\tLoss: 0.347592\t Accuracy:61.527%\n",
      "Epoch : 0 [6400/51000 (13%)]\tLoss: 0.397284\t Accuracy:67.320%\n",
      "Epoch : 0 [8000/51000 (16%)]\tLoss: 0.240247\t Accuracy:71.539%\n",
      "Epoch : 0 [9600/51000 (19%)]\tLoss: 0.283525\t Accuracy:74.522%\n",
      "Epoch : 0 [11200/51000 (22%)]\tLoss: 0.244645\t Accuracy:76.941%\n",
      "Epoch : 0 [12800/51000 (25%)]\tLoss: 0.217383\t Accuracy:78.834%\n",
      "Epoch : 0 [14400/51000 (28%)]\tLoss: 0.201801\t Accuracy:80.516%\n",
      "Epoch : 0 [16000/51000 (31%)]\tLoss: 0.294563\t Accuracy:81.755%\n",
      "Epoch : 0 [17600/51000 (35%)]\tLoss: 0.218492\t Accuracy:82.719%\n",
      "Epoch : 0 [19200/51000 (38%)]\tLoss: 0.328963\t Accuracy:83.564%\n",
      "Epoch : 0 [20800/51000 (41%)]\tLoss: 0.372173\t Accuracy:84.433%\n",
      "Epoch : 0 [22400/51000 (44%)]\tLoss: 0.026024\t Accuracy:85.204%\n",
      "Epoch : 0 [24000/51000 (47%)]\tLoss: 0.422075\t Accuracy:85.869%\n",
      "Epoch : 0 [25600/51000 (50%)]\tLoss: 0.049376\t Accuracy:86.431%\n",
      "Epoch : 0 [27200/51000 (53%)]\tLoss: 0.091562\t Accuracy:86.957%\n",
      "Epoch : 0 [28800/51000 (56%)]\tLoss: 0.020455\t Accuracy:87.386%\n",
      "Epoch : 0 [30400/51000 (60%)]\tLoss: 0.029855\t Accuracy:87.809%\n",
      "Epoch : 0 [32000/51000 (63%)]\tLoss: 0.089933\t Accuracy:88.202%\n",
      "Epoch : 0 [33600/51000 (66%)]\tLoss: 0.073539\t Accuracy:88.561%\n",
      "Epoch : 0 [35200/51000 (69%)]\tLoss: 0.101844\t Accuracy:88.933%\n",
      "Epoch : 0 [36800/51000 (72%)]\tLoss: 0.147844\t Accuracy:89.213%\n",
      "Epoch : 0 [38400/51000 (75%)]\tLoss: 0.325061\t Accuracy:89.465%\n",
      "Epoch : 0 [40000/51000 (78%)]\tLoss: 0.010321\t Accuracy:89.753%\n",
      "Epoch : 0 [41600/51000 (82%)]\tLoss: 0.433896\t Accuracy:90.000%\n",
      "Epoch : 0 [43200/51000 (85%)]\tLoss: 0.025007\t Accuracy:90.248%\n",
      "Epoch : 0 [44800/51000 (88%)]\tLoss: 0.063314\t Accuracy:90.462%\n",
      "Epoch : 0 [46400/51000 (91%)]\tLoss: 0.233040\t Accuracy:90.636%\n",
      "Epoch : 0 [48000/51000 (94%)]\tLoss: 0.161380\t Accuracy:90.808%\n",
      "Epoch : 0 [49600/51000 (97%)]\tLoss: 0.086822\t Accuracy:90.961%\n",
      "Epoch : 1 [0/51000 (0%)]\tLoss: 0.134197\t Accuracy:96.875%\n",
      "Epoch : 1 [1600/51000 (3%)]\tLoss: 0.248965\t Accuracy:96.078%\n",
      "Epoch : 1 [3200/51000 (6%)]\tLoss: 0.147580\t Accuracy:95.978%\n",
      "Epoch : 1 [4800/51000 (9%)]\tLoss: 0.083737\t Accuracy:96.254%\n",
      "Epoch : 1 [6400/51000 (13%)]\tLoss: 0.024757\t Accuracy:96.346%\n",
      "Epoch : 1 [8000/51000 (16%)]\tLoss: 0.045732\t Accuracy:96.327%\n",
      "Epoch : 1 [9600/51000 (19%)]\tLoss: 0.137779\t Accuracy:96.543%\n",
      "Epoch : 1 [11200/51000 (22%)]\tLoss: 0.289782\t Accuracy:96.644%\n",
      "Epoch : 1 [12800/51000 (25%)]\tLoss: 0.017617\t Accuracy:96.633%\n",
      "Epoch : 1 [14400/51000 (28%)]\tLoss: 0.047662\t Accuracy:96.570%\n",
      "Epoch : 1 [16000/51000 (31%)]\tLoss: 0.303196\t Accuracy:96.557%\n",
      "Epoch : 1 [17600/51000 (35%)]\tLoss: 0.037683\t Accuracy:96.529%\n",
      "Epoch : 1 [19200/51000 (38%)]\tLoss: 0.051287\t Accuracy:96.579%\n",
      "Epoch : 1 [20800/51000 (41%)]\tLoss: 0.038911\t Accuracy:96.558%\n",
      "Epoch : 1 [22400/51000 (44%)]\tLoss: 0.205227\t Accuracy:96.496%\n",
      "Epoch : 1 [24000/51000 (47%)]\tLoss: 0.176732\t Accuracy:96.476%\n",
      "Epoch : 1 [25600/51000 (50%)]\tLoss: 0.424414\t Accuracy:96.508%\n",
      "Epoch : 1 [27200/51000 (53%)]\tLoss: 0.114489\t Accuracy:96.545%\n",
      "Epoch : 1 [28800/51000 (56%)]\tLoss: 0.022246\t Accuracy:96.539%\n",
      "Epoch : 1 [30400/51000 (60%)]\tLoss: 0.439051\t Accuracy:96.546%\n",
      "Epoch : 1 [32000/51000 (63%)]\tLoss: 0.115092\t Accuracy:96.532%\n",
      "Epoch : 1 [33600/51000 (66%)]\tLoss: 0.118254\t Accuracy:96.557%\n",
      "Epoch : 1 [35200/51000 (69%)]\tLoss: 0.120075\t Accuracy:96.549%\n",
      "Epoch : 1 [36800/51000 (72%)]\tLoss: 0.084999\t Accuracy:96.552%\n",
      "Epoch : 1 [38400/51000 (75%)]\tLoss: 0.037127\t Accuracy:96.586%\n",
      "Epoch : 1 [40000/51000 (78%)]\tLoss: 0.089119\t Accuracy:96.593%\n",
      "Epoch : 1 [41600/51000 (82%)]\tLoss: 0.020969\t Accuracy:96.604%\n",
      "Epoch : 1 [43200/51000 (85%)]\tLoss: 0.036512\t Accuracy:96.625%\n",
      "Epoch : 1 [44800/51000 (88%)]\tLoss: 0.052537\t Accuracy:96.623%\n",
      "Epoch : 1 [46400/51000 (91%)]\tLoss: 0.206228\t Accuracy:96.651%\n",
      "Epoch : 1 [48000/51000 (94%)]\tLoss: 0.237885\t Accuracy:96.686%\n",
      "Epoch : 1 [49600/51000 (97%)]\tLoss: 0.150727\t Accuracy:96.698%\n",
      "Epoch : 2 [0/51000 (0%)]\tLoss: 0.047047\t Accuracy:96.875%\n",
      "Epoch : 2 [1600/51000 (3%)]\tLoss: 0.011691\t Accuracy:97.549%\n",
      "Epoch : 2 [3200/51000 (6%)]\tLoss: 0.222973\t Accuracy:97.958%\n",
      "Epoch : 2 [4800/51000 (9%)]\tLoss: 0.030638\t Accuracy:97.703%\n",
      "Epoch : 2 [6400/51000 (13%)]\tLoss: 0.034572\t Accuracy:97.575%\n",
      "Epoch : 2 [8000/51000 (16%)]\tLoss: 0.283541\t Accuracy:97.597%\n",
      "Epoch : 2 [9600/51000 (19%)]\tLoss: 0.037181\t Accuracy:97.643%\n",
      "Epoch : 2 [11200/51000 (22%)]\tLoss: 0.075987\t Accuracy:97.623%\n",
      "Epoch : 2 [12800/51000 (25%)]\tLoss: 0.143982\t Accuracy:97.584%\n",
      "Epoch : 2 [14400/51000 (28%)]\tLoss: 0.123597\t Accuracy:97.526%\n",
      "Epoch : 2 [16000/51000 (31%)]\tLoss: 0.020381\t Accuracy:97.493%\n",
      "Epoch : 2 [17600/51000 (35%)]\tLoss: 0.112849\t Accuracy:97.453%\n",
      "Epoch : 2 [19200/51000 (38%)]\tLoss: 0.126711\t Accuracy:97.437%\n",
      "Epoch : 2 [20800/51000 (41%)]\tLoss: 0.008587\t Accuracy:97.461%\n",
      "Epoch : 2 [22400/51000 (44%)]\tLoss: 0.135963\t Accuracy:97.423%\n",
      "Epoch : 2 [24000/51000 (47%)]\tLoss: 0.008933\t Accuracy:97.420%\n",
      "Epoch : 2 [25600/51000 (50%)]\tLoss: 0.054645\t Accuracy:97.398%\n",
      "Epoch : 2 [27200/51000 (53%)]\tLoss: 0.084949\t Accuracy:97.396%\n",
      "Epoch : 2 [28800/51000 (56%)]\tLoss: 0.176569\t Accuracy:97.381%\n",
      "Epoch : 2 [30400/51000 (60%)]\tLoss: 0.033436\t Accuracy:97.384%\n",
      "Epoch : 2 [32000/51000 (63%)]\tLoss: 0.009183\t Accuracy:97.403%\n",
      "Epoch : 2 [33600/51000 (66%)]\tLoss: 0.024069\t Accuracy:97.410%\n",
      "Epoch : 2 [35200/51000 (69%)]\tLoss: 0.017403\t Accuracy:97.406%\n",
      "Epoch : 2 [36800/51000 (72%)]\tLoss: 0.030139\t Accuracy:97.437%\n",
      "Epoch : 2 [38400/51000 (75%)]\tLoss: 0.105126\t Accuracy:97.421%\n",
      "Epoch : 2 [40000/51000 (78%)]\tLoss: 0.033797\t Accuracy:97.435%\n",
      "Epoch : 2 [41600/51000 (82%)]\tLoss: 0.134367\t Accuracy:97.430%\n",
      "Epoch : 2 [43200/51000 (85%)]\tLoss: 0.080649\t Accuracy:97.400%\n",
      "Epoch : 2 [44800/51000 (88%)]\tLoss: 0.021817\t Accuracy:97.397%\n",
      "Epoch : 2 [46400/51000 (91%)]\tLoss: 0.007260\t Accuracy:97.388%\n",
      "Epoch : 2 [48000/51000 (94%)]\tLoss: 0.102544\t Accuracy:97.412%\n",
      "Epoch : 2 [49600/51000 (97%)]\tLoss: 0.028331\t Accuracy:97.395%\n",
      "Epoch : 3 [0/51000 (0%)]\tLoss: 0.010794\t Accuracy:100.000%\n",
      "Epoch : 3 [1600/51000 (3%)]\tLoss: 0.019236\t Accuracy:98.284%\n",
      "Epoch : 3 [3200/51000 (6%)]\tLoss: 0.011673\t Accuracy:97.896%\n",
      "Epoch : 3 [4800/51000 (9%)]\tLoss: 0.071227\t Accuracy:97.786%\n",
      "Epoch : 3 [6400/51000 (13%)]\tLoss: 0.019018\t Accuracy:97.730%\n",
      "Epoch : 3 [8000/51000 (16%)]\tLoss: 0.054100\t Accuracy:97.697%\n",
      "Epoch : 3 [9600/51000 (19%)]\tLoss: 0.323803\t Accuracy:97.695%\n",
      "Epoch : 3 [11200/51000 (22%)]\tLoss: 0.018553\t Accuracy:97.703%\n",
      "Epoch : 3 [12800/51000 (25%)]\tLoss: 0.115532\t Accuracy:97.600%\n",
      "Epoch : 3 [14400/51000 (28%)]\tLoss: 0.018888\t Accuracy:97.582%\n",
      "Epoch : 3 [16000/51000 (31%)]\tLoss: 0.002849\t Accuracy:97.592%\n",
      "Epoch : 3 [17600/51000 (35%)]\tLoss: 0.068136\t Accuracy:97.590%\n",
      "Epoch : 3 [19200/51000 (38%)]\tLoss: 0.134824\t Accuracy:97.593%\n",
      "Epoch : 3 [20800/51000 (41%)]\tLoss: 0.009642\t Accuracy:97.609%\n",
      "Epoch : 3 [22400/51000 (44%)]\tLoss: 0.036374\t Accuracy:97.655%\n",
      "Epoch : 3 [24000/51000 (47%)]\tLoss: 0.006861\t Accuracy:97.670%\n",
      "Epoch : 3 [25600/51000 (50%)]\tLoss: 0.028300\t Accuracy:97.671%\n",
      "Epoch : 3 [27200/51000 (53%)]\tLoss: 0.075022\t Accuracy:97.694%\n",
      "Epoch : 3 [28800/51000 (56%)]\tLoss: 0.007732\t Accuracy:97.673%\n",
      "Epoch : 3 [30400/51000 (60%)]\tLoss: 0.017727\t Accuracy:97.680%\n",
      "Epoch : 3 [32000/51000 (63%)]\tLoss: 0.022395\t Accuracy:97.680%\n",
      "Epoch : 3 [33600/51000 (66%)]\tLoss: 0.025003\t Accuracy:97.675%\n",
      "Epoch : 3 [35200/51000 (69%)]\tLoss: 0.024317\t Accuracy:97.670%\n",
      "Epoch : 3 [36800/51000 (72%)]\tLoss: 0.052875\t Accuracy:97.690%\n",
      "Epoch : 3 [38400/51000 (75%)]\tLoss: 0.038602\t Accuracy:97.710%\n",
      "Epoch : 3 [40000/51000 (78%)]\tLoss: 0.006521\t Accuracy:97.707%\n",
      "Epoch : 3 [41600/51000 (82%)]\tLoss: 0.133879\t Accuracy:97.687%\n",
      "Epoch : 3 [43200/51000 (85%)]\tLoss: 0.035749\t Accuracy:97.694%\n",
      "Epoch : 3 [44800/51000 (88%)]\tLoss: 0.084100\t Accuracy:97.696%\n",
      "Epoch : 3 [46400/51000 (91%)]\tLoss: 0.018487\t Accuracy:97.715%\n",
      "Epoch : 3 [48000/51000 (94%)]\tLoss: 0.124751\t Accuracy:97.739%\n",
      "Epoch : 3 [49600/51000 (97%)]\tLoss: 0.150863\t Accuracy:97.745%\n",
      "Epoch : 4 [0/51000 (0%)]\tLoss: 0.026568\t Accuracy:100.000%\n",
      "Epoch : 4 [1600/51000 (3%)]\tLoss: 0.067265\t Accuracy:97.794%\n",
      "Epoch : 4 [3200/51000 (6%)]\tLoss: 0.059532\t Accuracy:97.989%\n",
      "Epoch : 4 [4800/51000 (9%)]\tLoss: 0.092042\t Accuracy:97.827%\n",
      "Epoch : 4 [6400/51000 (13%)]\tLoss: 0.149946\t Accuracy:97.761%\n",
      "Epoch : 4 [8000/51000 (16%)]\tLoss: 0.020362\t Accuracy:97.834%\n",
      "Epoch : 4 [9600/51000 (19%)]\tLoss: 0.132591\t Accuracy:97.872%\n",
      "Epoch : 4 [11200/51000 (22%)]\tLoss: 0.101585\t Accuracy:97.792%\n",
      "Epoch : 4 [12800/51000 (25%)]\tLoss: 0.030322\t Accuracy:97.662%\n",
      "Epoch : 4 [14400/51000 (28%)]\tLoss: 0.024640\t Accuracy:97.679%\n",
      "Epoch : 4 [16000/51000 (31%)]\tLoss: 0.002278\t Accuracy:97.705%\n",
      "Epoch : 4 [17600/51000 (35%)]\tLoss: 0.044285\t Accuracy:97.743%\n",
      "Epoch : 4 [19200/51000 (38%)]\tLoss: 0.082987\t Accuracy:97.769%\n",
      "Epoch : 4 [20800/51000 (41%)]\tLoss: 0.009308\t Accuracy:97.787%\n",
      "Epoch : 4 [22400/51000 (44%)]\tLoss: 0.010975\t Accuracy:97.820%\n",
      "Epoch : 4 [24000/51000 (47%)]\tLoss: 0.080850\t Accuracy:97.824%\n",
      "Epoch : 4 [25600/51000 (50%)]\tLoss: 0.456778\t Accuracy:97.815%\n",
      "Epoch : 4 [27200/51000 (53%)]\tLoss: 0.010924\t Accuracy:97.830%\n",
      "Epoch : 4 [28800/51000 (56%)]\tLoss: 0.126040\t Accuracy:97.825%\n",
      "Epoch : 4 [30400/51000 (60%)]\tLoss: 0.093539\t Accuracy:97.825%\n",
      "Epoch : 4 [32000/51000 (63%)]\tLoss: 0.001926\t Accuracy:97.821%\n",
      "Epoch : 4 [33600/51000 (66%)]\tLoss: 0.135005\t Accuracy:97.812%\n",
      "Epoch : 4 [35200/51000 (69%)]\tLoss: 0.013184\t Accuracy:97.823%\n",
      "Epoch : 4 [36800/51000 (72%)]\tLoss: 0.003763\t Accuracy:97.820%\n",
      "Epoch : 4 [38400/51000 (75%)]\tLoss: 0.182451\t Accuracy:97.827%\n",
      "Epoch : 4 [40000/51000 (78%)]\tLoss: 0.084412\t Accuracy:97.792%\n",
      "Epoch : 4 [41600/51000 (82%)]\tLoss: 0.106797\t Accuracy:97.776%\n",
      "Epoch : 4 [43200/51000 (85%)]\tLoss: 0.015523\t Accuracy:97.793%\n",
      "Epoch : 4 [44800/51000 (88%)]\tLoss: 0.012118\t Accuracy:97.787%\n",
      "Epoch : 4 [46400/51000 (91%)]\tLoss: 0.046770\t Accuracy:97.808%\n",
      "Epoch : 4 [48000/51000 (94%)]\tLoss: 0.033796\t Accuracy:97.824%\n",
      "Epoch : 4 [49600/51000 (97%)]\tLoss: 0.009440\t Accuracy:97.818%\n"
     ]
    }
   ],
   "source": [
    "fit(cnn, train_loader)"
   ]
  },
  {
   "cell_type": "code",
   "execution_count": 12,
   "metadata": {},
   "outputs": [],
   "source": [
    "def evaluate(model):\n",
    "    correct = 0\n",
    "    for test_imgs, test_labels in test_loader:\n",
    "        test_imgs = Variable(test_imgs).float()\n",
    "        output = model(test_imgs)\n",
    "        predicted = torch.max(output, 1)[1]\n",
    "        correct += (predicted == test_labels).sum()\n",
    "    print(\"Test accuracy:{:.3f}%\".format(float(correct) / (len(test_loader)*BATCH_SIZE)))"
   ]
  },
  {
   "cell_type": "code",
   "execution_count": 13,
   "metadata": {},
   "outputs": [
    {
     "name": "stdout",
     "output_type": "stream",
     "text": [
      "Test accuracy:0.977%\n"
     ]
    }
   ],
   "source": [
    "evaluate(cnn)"
   ]
  },
  {
   "cell_type": "code",
   "execution_count": 10,
   "metadata": {},
   "outputs": [
    {
     "name": "stdout",
     "output_type": "stream",
     "text": [
      "tensor([8])\n",
      "tensor([8])\n",
      "tensor([8])\n",
      "tensor([1])\n",
      "tensor([8])\n",
      "tensor([8])\n",
      "tensor([8])\n",
      "tensor([8])\n",
      "tensor([8])\n",
      "tensor([8])\n"
     ]
    }
   ],
   "source": [
    "# test handwritten digits\n",
    "from PIL import Image\n",
    "import numpy as np\n",
    "\n",
    "\n",
    "# Load the image, replace with custom file path\n",
    "image_path = [\n",
    "    \"0.png\",\n",
    "    \"1.png\",\n",
    "    \"2.png\",\n",
    "    \"3.png\",\n",
    "    \"4.png\",\n",
    "    \"5.png\",\n",
    "    \"6.png\",\n",
    "    \"7.png\",\n",
    "    \"8.png\",\n",
    "    \"9.png\",\n",
    "]  \n",
    "for path in image_path:\n",
    "    image = Image.open(path)\n",
    "\n",
    "    # convert to greyscale & resize\n",
    "    image = image.convert(\"L\")\n",
    "    image = image.resize((28,28))\n",
    "\n",
    "    # convert to tensor\n",
    "    transform = transforms.ToTensor()\n",
    "    image_tr = transform(image)\n",
    "    image_tr = image_tr.unsqueeze(dim=0) # add batch dimension\n",
    "\n",
    "    pred = cnn(image_tr)\n",
    "    vals, indeces = torch.max( pred, dim=1  )\n",
    "    preds = indeces\n",
    "    print(preds)"
   ]
  },
  {
   "cell_type": "markdown",
   "metadata": {},
   "source": [
    "Save Model"
   ]
  },
  {
   "cell_type": "code",
   "execution_count": 14,
   "metadata": {},
   "outputs": [],
   "source": [
    "torch.save(cnn.state_dict(), \"team6_final_weights.pth\")"
   ]
  }
 ],
 "metadata": {
  "colab": {
   "provenance": []
  },
  "kernelspec": {
   "display_name": "base",
   "language": "python",
   "name": "python3"
  },
  "language_info": {
   "codemirror_mode": {
    "name": "ipython",
    "version": 3
   },
   "file_extension": ".py",
   "mimetype": "text/x-python",
   "name": "python",
   "nbconvert_exporter": "python",
   "pygments_lexer": "ipython3",
   "version": "3.12.4"
  }
 },
 "nbformat": 4,
 "nbformat_minor": 0
}
