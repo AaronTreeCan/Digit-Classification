{
 "cells": [
  {
   "cell_type": "markdown",
   "metadata": {},
   "source": [
    "Package Installs"
   ]
  },
  {
   "cell_type": "code",
   "execution_count": 16,
   "metadata": {},
   "outputs": [],
   "source": [
    "# %pip install numpy\n",
    "# %pip install scipy\n",
    "# %pip install torch\n",
    "# %pip install torchvision"
   ]
  },
  {
   "cell_type": "markdown",
   "metadata": {},
   "source": [
    "Imports"
   ]
  },
  {
   "cell_type": "code",
   "execution_count": null,
   "metadata": {},
   "outputs": [],
   "source": [
    "import torch\n",
    "from torchvision.datasets import MNIST\n",
    "import torchvision.transforms as transforms\n",
    "from torch.utils.data import random_split, DataLoader\n",
    "import torch.nn as nn\n",
    "import torch.nn.functional as F\n",
    "from torch.autograd import Variable"
   ]
  },
  {
   "cell_type": "markdown",
   "metadata": {},
   "source": [
    "Load Data"
   ]
  },
  {
   "cell_type": "code",
   "execution_count": 16,
   "metadata": {},
   "outputs": [
    {
     "name": "stdout",
     "output_type": "stream",
     "text": [
      "60000\n"
     ]
    }
   ],
   "source": [
    "dataset = MNIST(root='./data', train=True, download=True, transform=transforms.ToTensor())\n",
    "print(len(dataset))"
   ]
  },
  {
   "cell_type": "markdown",
   "metadata": {},
   "source": [
    "Data Preprocessing"
   ]
  },
  {
   "cell_type": "code",
   "execution_count": 17,
   "metadata": {},
   "outputs": [
    {
     "name": "stdout",
     "output_type": "stream",
     "text": [
      "length of Train Datasets:  51000\n",
      "length of Validation Datasets:  9000\n"
     ]
    }
   ],
   "source": [
    "BATCH_SIZE = 32\n",
    "train_data, test_data = random_split(dataset, [51000, 9000])\n",
    "print(\"length of Train Datasets: \", len(train_data))\n",
    "print(\"length of Validation Datasets: \", len(test_data))\n",
    "\n",
    "train_loader = DataLoader(train_data, batch_size=BATCH_SIZE, shuffle = True)\n",
    "test_loader = DataLoader(test_data, batch_size=BATCH_SIZE, shuffle = True)\n"
   ]
  },
  {
   "cell_type": "markdown",
   "metadata": {},
   "source": [
    "Model"
   ]
  },
  {
   "cell_type": "code",
   "execution_count": 18,
   "metadata": {},
   "outputs": [
    {
     "name": "stdout",
     "output_type": "stream",
     "text": [
      "CNN(\n",
      "  (conv1): Conv2d(1, 32, kernel_size=(5, 5), stride=(1, 1))\n",
      "  (conv2): Conv2d(32, 32, kernel_size=(5, 5), stride=(1, 1))\n",
      "  (conv3): Conv2d(32, 64, kernel_size=(5, 5), stride=(1, 1))\n",
      "  (fc1): Linear(in_features=576, out_features=256, bias=True)\n",
      "  (fc2): Linear(in_features=256, out_features=10, bias=True)\n",
      ")\n",
      "torch.Size([32, 10])\n"
     ]
    }
   ],
   "source": [
    "class CNN(nn.Module):\n",
    "    def __init__(self):\n",
    "        super(CNN, self).__init__()\n",
    "        self.conv1 = nn.Conv2d(1, 32, kernel_size=5)\n",
    "        self.conv2 = nn.Conv2d(32, 32, kernel_size=5)\n",
    "        self.conv3 = nn.Conv2d(32, 64, kernel_size=5)\n",
    "        self.fc1 = nn.Linear(3*3*64, 256)\n",
    "        self.fc2 = nn.Linear(256, 10)\n",
    "    \n",
    "    def forward(self, x):\n",
    "        x = F.relu(self.conv1(x))\n",
    "        x = F.relu(F.max_pool2d(self.conv2(x), 2))\n",
    "        x = F.dropout(x, p=0.5, training=self.training)\n",
    "        x = F.relu(F.max_pool2d(self.conv3(x), 2))\n",
    "        x = F.dropout(x, p=0.5, training=self.training)\n",
    "        x = x.view(-1, 3*3*64)\n",
    "        x = F.relu(self.fc1(x))\n",
    "        x = F.dropout(x, training=self.training)\n",
    "        x = self.fc2(x)\n",
    "        return F.log_softmax(x, dim=1)\n",
    "\n",
    "cnn = CNN()\n",
    "print(cnn)\n",
    "it = iter(train_loader)\n",
    "X_batch, y_batch = next(it)\n",
    "print(cnn.forward(X_batch).shape)"
   ]
  },
  {
   "cell_type": "code",
   "execution_count": 29,
   "metadata": {},
   "outputs": [],
   "source": [
    "def fit(model, train_loader):\n",
    "    optimizer = torch.optim.Adam(model.parameters())\n",
    "    error = nn.CrossEntropyLoss()\n",
    "    EPOCHS = 5\n",
    "    model.train()\n",
    "    for epoch in range(EPOCHS):\n",
    "        correct = 0\n",
    "        for batch_idx, (X_batch, y_batch) in enumerate(train_loader):\n",
    "            var_X_batch = Variable(X_batch).float()\n",
    "            var_y_batch = Variable(y_batch)\n",
    "            optimizer.zero_grad()\n",
    "            output = model(var_X_batch)\n",
    "            loss = error(output, var_y_batch)\n",
    "            loss.backward()\n",
    "            optimizer.step()\n",
    "\n",
    "            predicted = torch.max(output.data, 1)[1]\n",
    "            correct += (predicted == var_y_batch).sum()\n",
    "            if batch_idx % 50 == 0:\n",
    "                print('Epoch : {} [{}/{} ({:.0f}%)]\\tLoss: {:.6f}\\t Accuracy:{:.3f}%'.format(\n",
    "                    epoch, batch_idx*len(X_batch), len(train_loader.dataset), 100.*batch_idx / len(train_loader), loss.data, float(correct*100) / float(BATCH_SIZE*(batch_idx+1))))"
   ]
  },
  {
   "cell_type": "code",
   "execution_count": 30,
   "metadata": {},
   "outputs": [
    {
     "name": "stdout",
     "output_type": "stream",
     "text": [
      "Epoch : 0 [0/51000 (0%)]\tLoss: 0.614433\t Accuracy:75.000%\n",
      "Epoch : 0 [1600/51000 (3%)]\tLoss: 0.462033\t Accuracy:84.069%\n",
      "Epoch : 0 [3200/51000 (6%)]\tLoss: 0.154101\t Accuracy:86.077%\n",
      "Epoch : 0 [4800/51000 (9%)]\tLoss: 0.263335\t Accuracy:87.169%\n",
      "Epoch : 0 [6400/51000 (13%)]\tLoss: 0.222539\t Accuracy:87.998%\n",
      "Epoch : 0 [8000/51000 (16%)]\tLoss: 0.073957\t Accuracy:88.770%\n",
      "Epoch : 0 [9600/51000 (19%)]\tLoss: 0.146413\t Accuracy:89.410%\n",
      "Epoch : 0 [11200/51000 (22%)]\tLoss: 0.058660\t Accuracy:89.939%\n",
      "Epoch : 0 [12800/51000 (25%)]\tLoss: 0.380743\t Accuracy:90.337%\n",
      "Epoch : 0 [14400/51000 (28%)]\tLoss: 0.298616\t Accuracy:90.604%\n",
      "Epoch : 0 [16000/51000 (31%)]\tLoss: 0.226133\t Accuracy:90.974%\n",
      "Epoch : 0 [17600/51000 (35%)]\tLoss: 0.171374\t Accuracy:91.306%\n",
      "Epoch : 0 [19200/51000 (38%)]\tLoss: 0.041673\t Accuracy:91.603%\n",
      "Epoch : 0 [20800/51000 (41%)]\tLoss: 0.195729\t Accuracy:91.782%\n",
      "Epoch : 0 [22400/51000 (44%)]\tLoss: 0.215980\t Accuracy:92.002%\n",
      "Epoch : 0 [24000/51000 (47%)]\tLoss: 0.135844\t Accuracy:92.173%\n",
      "Epoch : 0 [25600/51000 (50%)]\tLoss: 0.302116\t Accuracy:92.334%\n",
      "Epoch : 0 [27200/51000 (53%)]\tLoss: 0.171010\t Accuracy:92.549%\n",
      "Epoch : 0 [28800/51000 (56%)]\tLoss: 0.123151\t Accuracy:92.713%\n",
      "Epoch : 0 [30400/51000 (60%)]\tLoss: 0.277758\t Accuracy:92.823%\n",
      "Epoch : 0 [32000/51000 (63%)]\tLoss: 0.095231\t Accuracy:92.979%\n",
      "Epoch : 0 [33600/51000 (66%)]\tLoss: 0.042240\t Accuracy:93.143%\n",
      "Epoch : 0 [35200/51000 (69%)]\tLoss: 0.060419\t Accuracy:93.299%\n",
      "Epoch : 0 [36800/51000 (72%)]\tLoss: 0.166554\t Accuracy:93.449%\n",
      "Epoch : 0 [38400/51000 (75%)]\tLoss: 0.133514\t Accuracy:93.563%\n",
      "Epoch : 0 [40000/51000 (78%)]\tLoss: 0.127075\t Accuracy:93.685%\n",
      "Epoch : 0 [41600/51000 (82%)]\tLoss: 0.063898\t Accuracy:93.755%\n",
      "Epoch : 0 [43200/51000 (85%)]\tLoss: 0.239587\t Accuracy:93.840%\n",
      "Epoch : 0 [44800/51000 (88%)]\tLoss: 0.502793\t Accuracy:93.942%\n",
      "Epoch : 0 [46400/51000 (91%)]\tLoss: 0.068857\t Accuracy:94.004%\n",
      "Epoch : 0 [48000/51000 (94%)]\tLoss: 0.054346\t Accuracy:94.102%\n",
      "Epoch : 0 [49600/51000 (97%)]\tLoss: 0.032085\t Accuracy:94.193%\n",
      "Epoch : 1 [0/51000 (0%)]\tLoss: 0.055634\t Accuracy:96.875%\n",
      "Epoch : 1 [1600/51000 (3%)]\tLoss: 0.051452\t Accuracy:96.140%\n",
      "Epoch : 1 [3200/51000 (6%)]\tLoss: 0.152978\t Accuracy:96.813%\n",
      "Epoch : 1 [4800/51000 (9%)]\tLoss: 0.012500\t Accuracy:96.606%\n",
      "Epoch : 1 [6400/51000 (13%)]\tLoss: 0.174629\t Accuracy:96.455%\n",
      "Epoch : 1 [8000/51000 (16%)]\tLoss: 0.160503\t Accuracy:96.439%\n",
      "Epoch : 1 [9600/51000 (19%)]\tLoss: 0.078130\t Accuracy:96.335%\n",
      "Epoch : 1 [11200/51000 (22%)]\tLoss: 0.094772\t Accuracy:96.421%\n",
      "Epoch : 1 [12800/51000 (25%)]\tLoss: 0.037776\t Accuracy:96.485%\n",
      "Epoch : 1 [14400/51000 (28%)]\tLoss: 0.164021\t Accuracy:96.452%\n",
      "Epoch : 1 [16000/51000 (31%)]\tLoss: 0.039396\t Accuracy:96.538%\n",
      "Epoch : 1 [17600/51000 (35%)]\tLoss: 0.087723\t Accuracy:96.637%\n",
      "Epoch : 1 [19200/51000 (38%)]\tLoss: 0.185207\t Accuracy:96.662%\n",
      "Epoch : 1 [20800/51000 (41%)]\tLoss: 0.058876\t Accuracy:96.707%\n",
      "Epoch : 1 [22400/51000 (44%)]\tLoss: 0.082357\t Accuracy:96.701%\n",
      "Epoch : 1 [24000/51000 (47%)]\tLoss: 0.037333\t Accuracy:96.709%\n",
      "Epoch : 1 [25600/51000 (50%)]\tLoss: 0.220883\t Accuracy:96.758%\n",
      "Epoch : 1 [27200/51000 (53%)]\tLoss: 0.175030\t Accuracy:96.769%\n",
      "Epoch : 1 [28800/51000 (56%)]\tLoss: 0.101139\t Accuracy:96.771%\n",
      "Epoch : 1 [30400/51000 (60%)]\tLoss: 0.153448\t Accuracy:96.750%\n",
      "Epoch : 1 [32000/51000 (63%)]\tLoss: 0.226665\t Accuracy:96.756%\n",
      "Epoch : 1 [33600/51000 (66%)]\tLoss: 0.106683\t Accuracy:96.765%\n",
      "Epoch : 1 [35200/51000 (69%)]\tLoss: 0.018859\t Accuracy:96.778%\n",
      "Epoch : 1 [36800/51000 (72%)]\tLoss: 0.235499\t Accuracy:96.791%\n",
      "Epoch : 1 [38400/51000 (75%)]\tLoss: 0.204472\t Accuracy:96.789%\n",
      "Epoch : 1 [40000/51000 (78%)]\tLoss: 0.440077\t Accuracy:96.793%\n",
      "Epoch : 1 [41600/51000 (82%)]\tLoss: 0.092645\t Accuracy:96.793%\n",
      "Epoch : 1 [43200/51000 (85%)]\tLoss: 0.018213\t Accuracy:96.817%\n",
      "Epoch : 1 [44800/51000 (88%)]\tLoss: 0.180911\t Accuracy:96.848%\n",
      "Epoch : 1 [46400/51000 (91%)]\tLoss: 0.058217\t Accuracy:96.866%\n",
      "Epoch : 1 [48000/51000 (94%)]\tLoss: 0.988508\t Accuracy:96.887%\n",
      "Epoch : 1 [49600/51000 (97%)]\tLoss: 0.094477\t Accuracy:96.907%\n",
      "Epoch : 2 [0/51000 (0%)]\tLoss: 0.028014\t Accuracy:100.000%\n",
      "Epoch : 2 [1600/51000 (3%)]\tLoss: 0.031309\t Accuracy:96.691%\n",
      "Epoch : 2 [3200/51000 (6%)]\tLoss: 0.038389\t Accuracy:96.535%\n",
      "Epoch : 2 [4800/51000 (9%)]\tLoss: 0.101925\t Accuracy:96.709%\n",
      "Epoch : 2 [6400/51000 (13%)]\tLoss: 0.033740\t Accuracy:96.828%\n",
      "Epoch : 2 [8000/51000 (16%)]\tLoss: 0.395090\t Accuracy:96.962%\n",
      "Epoch : 2 [9600/51000 (19%)]\tLoss: 0.015239\t Accuracy:97.114%\n",
      "Epoch : 2 [11200/51000 (22%)]\tLoss: 0.038258\t Accuracy:97.213%\n",
      "Epoch : 2 [12800/51000 (25%)]\tLoss: 0.021512\t Accuracy:97.210%\n",
      "Epoch : 2 [14400/51000 (28%)]\tLoss: 0.145432\t Accuracy:97.235%\n",
      "Epoch : 2 [16000/51000 (31%)]\tLoss: 0.021547\t Accuracy:97.287%\n",
      "Epoch : 2 [17600/51000 (35%)]\tLoss: 0.213925\t Accuracy:97.300%\n",
      "Epoch : 2 [19200/51000 (38%)]\tLoss: 0.033739\t Accuracy:97.317%\n",
      "Epoch : 2 [20800/51000 (41%)]\tLoss: 0.028951\t Accuracy:97.240%\n",
      "Epoch : 2 [22400/51000 (44%)]\tLoss: 0.017932\t Accuracy:97.232%\n",
      "Epoch : 2 [24000/51000 (47%)]\tLoss: 0.070133\t Accuracy:97.295%\n",
      "Epoch : 2 [25600/51000 (50%)]\tLoss: 0.157500\t Accuracy:97.285%\n",
      "Epoch : 2 [27200/51000 (53%)]\tLoss: 0.111757\t Accuracy:97.319%\n",
      "Epoch : 2 [28800/51000 (56%)]\tLoss: 0.021736\t Accuracy:97.354%\n",
      "Epoch : 2 [30400/51000 (60%)]\tLoss: 0.225129\t Accuracy:97.374%\n",
      "Epoch : 2 [32000/51000 (63%)]\tLoss: 0.013108\t Accuracy:97.390%\n",
      "Epoch : 2 [33600/51000 (66%)]\tLoss: 0.077857\t Accuracy:97.395%\n",
      "Epoch : 2 [35200/51000 (69%)]\tLoss: 0.040244\t Accuracy:97.406%\n",
      "Epoch : 2 [36800/51000 (72%)]\tLoss: 0.009591\t Accuracy:97.429%\n",
      "Epoch : 2 [38400/51000 (75%)]\tLoss: 0.102193\t Accuracy:97.406%\n",
      "Epoch : 2 [40000/51000 (78%)]\tLoss: 0.030483\t Accuracy:97.405%\n",
      "Epoch : 2 [41600/51000 (82%)]\tLoss: 0.024457\t Accuracy:97.399%\n",
      "Epoch : 2 [43200/51000 (85%)]\tLoss: 0.147336\t Accuracy:97.416%\n",
      "Epoch : 2 [44800/51000 (88%)]\tLoss: 0.094466\t Accuracy:97.410%\n",
      "Epoch : 2 [46400/51000 (91%)]\tLoss: 0.002232\t Accuracy:97.416%\n",
      "Epoch : 2 [48000/51000 (94%)]\tLoss: 0.026066\t Accuracy:97.433%\n",
      "Epoch : 2 [49600/51000 (97%)]\tLoss: 0.135766\t Accuracy:97.445%\n",
      "Epoch : 3 [0/51000 (0%)]\tLoss: 0.039011\t Accuracy:96.875%\n",
      "Epoch : 3 [1600/51000 (3%)]\tLoss: 0.002088\t Accuracy:97.488%\n",
      "Epoch : 3 [3200/51000 (6%)]\tLoss: 0.097165\t Accuracy:97.308%\n",
      "Epoch : 3 [4800/51000 (9%)]\tLoss: 0.030796\t Accuracy:97.620%\n",
      "Epoch : 3 [6400/51000 (13%)]\tLoss: 0.032981\t Accuracy:97.544%\n",
      "Epoch : 3 [8000/51000 (16%)]\tLoss: 0.048023\t Accuracy:97.659%\n",
      "Epoch : 3 [9600/51000 (19%)]\tLoss: 0.033195\t Accuracy:97.789%\n",
      "Epoch : 3 [11200/51000 (22%)]\tLoss: 0.215565\t Accuracy:97.756%\n",
      "Epoch : 3 [12800/51000 (25%)]\tLoss: 0.144468\t Accuracy:97.685%\n",
      "Epoch : 3 [14400/51000 (28%)]\tLoss: 0.006276\t Accuracy:97.776%\n",
      "Epoch : 3 [16000/51000 (31%)]\tLoss: 0.058243\t Accuracy:97.792%\n",
      "Epoch : 3 [17600/51000 (35%)]\tLoss: 0.011534\t Accuracy:97.839%\n",
      "Epoch : 3 [19200/51000 (38%)]\tLoss: 0.011478\t Accuracy:97.827%\n",
      "Epoch : 3 [20800/51000 (41%)]\tLoss: 0.016875\t Accuracy:97.830%\n",
      "Epoch : 3 [22400/51000 (44%)]\tLoss: 0.009232\t Accuracy:97.825%\n",
      "Epoch : 3 [24000/51000 (47%)]\tLoss: 0.074151\t Accuracy:97.786%\n",
      "Epoch : 3 [25600/51000 (50%)]\tLoss: 0.065210\t Accuracy:97.819%\n",
      "Epoch : 3 [27200/51000 (53%)]\tLoss: 0.006174\t Accuracy:97.855%\n",
      "Epoch : 3 [28800/51000 (56%)]\tLoss: 0.014341\t Accuracy:97.867%\n",
      "Epoch : 3 [30400/51000 (60%)]\tLoss: 0.011533\t Accuracy:97.841%\n",
      "Epoch : 3 [32000/51000 (63%)]\tLoss: 0.002395\t Accuracy:97.874%\n",
      "Epoch : 3 [33600/51000 (66%)]\tLoss: 0.040429\t Accuracy:97.904%\n",
      "Epoch : 3 [35200/51000 (69%)]\tLoss: 0.003974\t Accuracy:97.920%\n",
      "Epoch : 3 [36800/51000 (72%)]\tLoss: 0.003179\t Accuracy:97.907%\n",
      "Epoch : 3 [38400/51000 (75%)]\tLoss: 0.042882\t Accuracy:97.895%\n",
      "Epoch : 3 [40000/51000 (78%)]\tLoss: 0.091858\t Accuracy:97.907%\n",
      "Epoch : 3 [41600/51000 (82%)]\tLoss: 0.007104\t Accuracy:97.925%\n",
      "Epoch : 3 [43200/51000 (85%)]\tLoss: 0.050050\t Accuracy:97.916%\n",
      "Epoch : 3 [44800/51000 (88%)]\tLoss: 0.187972\t Accuracy:97.899%\n",
      "Epoch : 3 [46400/51000 (91%)]\tLoss: 0.013244\t Accuracy:97.889%\n",
      "Epoch : 3 [48000/51000 (94%)]\tLoss: 0.010218\t Accuracy:97.876%\n",
      "Epoch : 3 [49600/51000 (97%)]\tLoss: 0.084015\t Accuracy:97.852%\n",
      "Epoch : 4 [0/51000 (0%)]\tLoss: 0.079980\t Accuracy:96.875%\n",
      "Epoch : 4 [1600/51000 (3%)]\tLoss: 0.059553\t Accuracy:97.978%\n",
      "Epoch : 4 [3200/51000 (6%)]\tLoss: 0.362948\t Accuracy:97.958%\n",
      "Epoch : 4 [4800/51000 (9%)]\tLoss: 0.053086\t Accuracy:97.806%\n",
      "Epoch : 4 [6400/51000 (13%)]\tLoss: 0.116515\t Accuracy:97.637%\n",
      "Epoch : 4 [8000/51000 (16%)]\tLoss: 0.009373\t Accuracy:97.684%\n",
      "Epoch : 4 [9600/51000 (19%)]\tLoss: 0.063795\t Accuracy:97.757%\n",
      "Epoch : 4 [11200/51000 (22%)]\tLoss: 0.002189\t Accuracy:97.899%\n",
      "Epoch : 4 [12800/51000 (25%)]\tLoss: 0.014315\t Accuracy:97.896%\n",
      "Epoch : 4 [14400/51000 (28%)]\tLoss: 0.190452\t Accuracy:97.914%\n",
      "Epoch : 4 [16000/51000 (31%)]\tLoss: 0.347837\t Accuracy:97.948%\n",
      "Epoch : 4 [17600/51000 (35%)]\tLoss: 0.039080\t Accuracy:97.953%\n",
      "Epoch : 4 [19200/51000 (38%)]\tLoss: 0.281794\t Accuracy:97.988%\n",
      "Epoch : 4 [20800/51000 (41%)]\tLoss: 0.003517\t Accuracy:98.041%\n",
      "Epoch : 4 [22400/51000 (44%)]\tLoss: 0.037214\t Accuracy:98.025%\n",
      "Epoch : 4 [24000/51000 (47%)]\tLoss: 0.136315\t Accuracy:98.003%\n",
      "Epoch : 4 [25600/51000 (50%)]\tLoss: 0.021655\t Accuracy:97.975%\n",
      "Epoch : 4 [27200/51000 (53%)]\tLoss: 0.041400\t Accuracy:98.010%\n",
      "Epoch : 4 [28800/51000 (56%)]\tLoss: 0.297516\t Accuracy:98.016%\n",
      "Epoch : 4 [30400/51000 (60%)]\tLoss: 0.122160\t Accuracy:98.025%\n",
      "Epoch : 4 [32000/51000 (63%)]\tLoss: 0.022725\t Accuracy:98.030%\n",
      "Epoch : 4 [33600/51000 (66%)]\tLoss: 0.007788\t Accuracy:98.052%\n",
      "Epoch : 4 [35200/51000 (69%)]\tLoss: 0.115761\t Accuracy:98.044%\n",
      "Epoch : 4 [36800/51000 (72%)]\tLoss: 0.005426\t Accuracy:98.042%\n",
      "Epoch : 4 [38400/51000 (75%)]\tLoss: 0.019075\t Accuracy:98.049%\n",
      "Epoch : 4 [40000/51000 (78%)]\tLoss: 0.061332\t Accuracy:98.019%\n",
      "Epoch : 4 [41600/51000 (82%)]\tLoss: 0.010606\t Accuracy:98.026%\n",
      "Epoch : 4 [43200/51000 (85%)]\tLoss: 0.009166\t Accuracy:98.034%\n",
      "Epoch : 4 [44800/51000 (88%)]\tLoss: 0.039907\t Accuracy:98.022%\n",
      "Epoch : 4 [46400/51000 (91%)]\tLoss: 0.018670\t Accuracy:98.029%\n",
      "Epoch : 4 [48000/51000 (94%)]\tLoss: 0.089273\t Accuracy:98.008%\n",
      "Epoch : 4 [49600/51000 (97%)]\tLoss: 0.063616\t Accuracy:98.009%\n"
     ]
    }
   ],
   "source": [
    "fit(cnn, train_loader)"
   ]
  },
  {
   "cell_type": "code",
   "execution_count": 31,
   "metadata": {},
   "outputs": [],
   "source": [
    "def evaluate(model):\n",
    "    correct = 0\n",
    "    for test_imgs, test_labels in test_loader:\n",
    "        test_imgs = Variable(test_imgs).float()\n",
    "        output = model(test_imgs)\n",
    "        predicted = torch.max(output, 1)[1]\n",
    "        correct += (predicted == test_labels).sum()\n",
    "    print(\"Test accuracy:{:.3f}%\".format(float(correct) / (len(test_loader)*BATCH_SIZE)))"
   ]
  },
  {
   "cell_type": "code",
   "execution_count": 32,
   "metadata": {},
   "outputs": [
    {
     "name": "stdout",
     "output_type": "stream",
     "text": [
      "Test accuracy:0.973%\n"
     ]
    }
   ],
   "source": [
    "evaluate(cnn)"
   ]
  }
 ],
 "metadata": {
  "colab": {
   "provenance": []
  },
  "kernelspec": {
   "display_name": "base",
   "language": "python",
   "name": "python3"
  },
  "language_info": {
   "codemirror_mode": {
    "name": "ipython",
    "version": 3
   },
   "file_extension": ".py",
   "mimetype": "text/x-python",
   "name": "python",
   "nbconvert_exporter": "python",
   "pygments_lexer": "ipython3",
   "version": "3.12.4"
  }
 },
 "nbformat": 4,
 "nbformat_minor": 0
}
